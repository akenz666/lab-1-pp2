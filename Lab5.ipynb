{
 "cells": [
  {
   "cell_type": "code",
   "execution_count": 2,
   "id": "ba5bbe0e-08fb-45b1-97e1-cc2075983d25",
   "metadata": {},
   "outputs": [
    {
     "name": "stdin",
     "output_type": "stream",
     "text": [
      " abb\n"
     ]
    },
    {
     "name": "stdout",
     "output_type": "stream",
     "text": [
      "True\n"
     ]
    }
   ],
   "source": [
    "import re\n",
    "text=input()\n",
    "if re.search(\"a+b*\",text):\n",
    "    print (\"True\")\n",
    "else:\n",
    "    print(\"False\")\n"
   ]
  },
  {
   "cell_type": "code",
   "execution_count": 8,
   "id": "e77e584a-8698-4cb9-90df-22756114baac",
   "metadata": {},
   "outputs": [
    {
     "name": "stdin",
     "output_type": "stream",
     "text": [
      " abbbb\n"
     ]
    },
    {
     "name": "stdout",
     "output_type": "stream",
     "text": [
      "False\n"
     ]
    }
   ],
   "source": [
    "import re\n",
    "text=input()\n",
    "if re.search(\"a+b{2,3}$\",text):\n",
    "    print (\"True\")\n",
    "else:\n",
    "    print(\"False\")\n"
   ]
  },
  {
   "cell_type": "code",
   "execution_count": 10,
   "id": "7bc9c8f8-b3fb-41d6-95ba-22dc37ccc53e",
   "metadata": {},
   "outputs": [
    {
     "name": "stdin",
     "output_type": "stream",
     "text": [
      " alel\n"
     ]
    },
    {
     "name": "stdout",
     "output_type": "stream",
     "text": [
      "False\n"
     ]
    }
   ],
   "source": [
    "import re\n",
    "text=input()\n",
    "if re.search(\"[a-z]+(_[a-z]+)\",text):\n",
    "    print (\"True\")\n",
    "else:\n",
    "    print(\"False\")\n"
   ]
  },
  {
   "cell_type": "code",
   "execution_count": 21,
   "id": "0d275941-4e21-45ca-a6f6-1b7255da1ef0",
   "metadata": {},
   "outputs": [
    {
     "name": "stdin",
     "output_type": "stream",
     "text": [
      " Abbd\n"
     ]
    },
    {
     "name": "stdout",
     "output_type": "stream",
     "text": [
      "True\n"
     ]
    }
   ],
   "source": [
    "import re\n",
    "text=input()\n",
    "if re.search(\"[A-Z]+([a-z]+)\",text):\n",
    "    print (\"True\")\n",
    "else:\n",
    "    print(\"False\")\n"
   ]
  },
  {
   "cell_type": "code",
   "execution_count": 19,
   "id": "740d794c-6c05-47ac-8c70-a4ab0dac49d6",
   "metadata": {},
   "outputs": [
    {
     "name": "stdin",
     "output_type": "stream",
     "text": [
      " aleke\n"
     ]
    },
    {
     "name": "stdout",
     "output_type": "stream",
     "text": [
      "False\n"
     ]
    }
   ],
   "source": [
    "import re\n",
    "text=input()\n",
    "if re.search(\"a+[a-z]*b+\",text):\n",
    "    print (\"True\")\n",
    "else:\n",
    "    print(\"False\")"
   ]
  },
  {
   "cell_type": "code",
   "execution_count": 23,
   "id": "0ce9531f-348d-403a-8857-264c209c6af1",
   "metadata": {},
   "outputs": [
    {
     "name": "stdin",
     "output_type": "stream",
     "text": [
      " alel. ll\n"
     ]
    },
    {
     "name": "stdout",
     "output_type": "stream",
     "text": [
      "alel::ll\n"
     ]
    }
   ],
   "source": [
    "import re\n",
    "text=input()\n",
    "new_text = re.sub(r\"[\\s,\\.]\", \":\", text)\n",
    "print(new_text)"
   ]
  },
  {
   "cell_type": "code",
   "execution_count": 25,
   "id": "fbf8cc98-4ba6-42d5-ad5d-22235f32069f",
   "metadata": {},
   "outputs": [
    {
     "name": "stdin",
     "output_type": "stream",
     "text": [
      " al_top\n"
     ]
    },
    {
     "name": "stdout",
     "output_type": "stream",
     "text": [
      "alTop\n"
     ]
    }
   ],
   "source": [
    "a = input()\n",
    "new = \"\"\n",
    "i=0\n",
    "while i<len(a):\n",
    "    if a[i] == \"_\":\n",
    "        new += a[i + 1].upper()\n",
    "        a = a[:i] + a[i+1:]\n",
    "    else:\n",
    "        new += a[i]\n",
    "    i+=1\n",
    "print(new)"
   ]
  },
  {
   "cell_type": "code",
   "execution_count": 27,
   "id": "c979a0ed-1b65-4eb7-83ba-391b3e873471",
   "metadata": {},
   "outputs": [
    {
     "name": "stdin",
     "output_type": "stream",
     "text": [
      " helloPythonWorld\n"
     ]
    },
    {
     "name": "stdout",
     "output_type": "stream",
     "text": [
      "['hello', 'Python', 'World']\n"
     ]
    }
   ],
   "source": [
    "import re\n",
    "a=input()\n",
    "result = re.findall(r'[a-z]+|[A-Z][a-z]*', a)\n",
    "print(result)"
   ]
  },
  {
   "cell_type": "code",
   "execution_count": 29,
   "id": "c215a1c4-a635-42c5-9787-f55e3fdb6e9a",
   "metadata": {},
   "outputs": [
    {
     "name": "stdin",
     "output_type": "stream",
     "text": [
      " helloWorld\n"
     ]
    },
    {
     "name": "stdout",
     "output_type": "stream",
     "text": [
      "hello World\n"
     ]
    }
   ],
   "source": [
    "import re\n",
    "\n",
    "a = input()\n",
    "\n",
    "\n",
    "result = re.sub(r'([a-z])([A-Z])', r'\\1 \\2', a)\n",
    "\n",
    "print(result)"
   ]
  },
  {
   "cell_type": "code",
   "execution_count": 2,
   "id": "836fc11a-bb77-4a84-bad5-2db52e4b4815",
   "metadata": {},
   "outputs": [
    {
     "name": "stdin",
     "output_type": "stream",
     "text": [
      " alTop\n"
     ]
    },
    {
     "name": "stdout",
     "output_type": "stream",
     "text": [
      "al_top\n"
     ]
    }
   ],
   "source": [
    "a=input()\n",
    "i=0\n",
    "result=\"\"\n",
    "while i<len(a):\n",
    "    if (a[i].isupper()):\n",
    "        result+=\"_\"\n",
    "        result+=a[i].lower()\n",
    "    else:\n",
    "        result+=a[i]\n",
    "    i+=1\n",
    "print(result)"
   ]
  },
  {
   "cell_type": "code",
   "execution_count": null,
   "id": "c5b54348-5d6e-4d29-94d5-4f641b570efa",
   "metadata": {},
   "outputs": [],
   "source": []
  },
  {
   "cell_type": "code",
   "execution_count": null,
   "id": "6e28a3f7-be90-4664-9e47-98b20484f2c1",
   "metadata": {},
   "outputs": [],
   "source": []
  }
 ],
 "metadata": {
  "kernelspec": {
   "display_name": "Python [conda env:base] *",
   "language": "python",
   "name": "conda-base-py"
  },
  "language_info": {
   "codemirror_mode": {
    "name": "ipython",
    "version": 3
   },
   "file_extension": ".py",
   "mimetype": "text/x-python",
   "name": "python",
   "nbconvert_exporter": "python",
   "pygments_lexer": "ipython3",
   "version": "3.12.7"
  }
 },
 "nbformat": 4,
 "nbformat_minor": 5
}
