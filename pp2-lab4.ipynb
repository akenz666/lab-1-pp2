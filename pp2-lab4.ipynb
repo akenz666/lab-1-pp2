{
 "cells": [
  {
   "cell_type": "code",
   "execution_count": 44,
   "id": "778dd6e0-d3d4-4d47-a950-86029532a6d7",
   "metadata": {},
   "outputs": [
    {
     "name": "stdin",
     "output_type": "stream",
     "text": [
      "number:  5\n"
     ]
    },
    {
     "name": "stdout",
     "output_type": "stream",
     "text": [
      "1\n",
      "4\n",
      "9\n",
      "16\n",
      "25\n"
     ]
    }
   ],
   "source": [
    "class numbers:\n",
    "    def __init__(self, n):\n",
    "        self.n = n \n",
    "    def __iter__(self):\n",
    "        self.a = 1  \n",
    "        return self\n",
    "    def __next__(self):\n",
    "        if self.a <= self.n:  \n",
    "            x = self.a ** 2  \n",
    "            self.a += 1\n",
    "            return x\n",
    "        else:\n",
    "            raise StopIteration\n",
    "\n",
    "n = int(input(\"number: \"))\n",
    "a = numbers(n)\n",
    "iterat = iter(a)\n",
    "\n",
    "for x in iterat:\n",
    "    print(x)"
   ]
  },
  {
   "cell_type": "code",
   "execution_count": 46,
   "id": "89b32ca5-480f-4341-a37a-1f8a333c9e16",
   "metadata": {},
   "outputs": [
    {
     "name": "stdin",
     "output_type": "stream",
     "text": [
      "number:  10\n"
     ]
    },
    {
     "name": "stdout",
     "output_type": "stream",
     "text": [
      "0,2,4,6,8,10\n"
     ]
    }
   ],
   "source": [
    "class numbers:\n",
    "    def __init__(self, n):\n",
    "        self.n = n \n",
    "    def __iter__(self):\n",
    "        self.a = 0  \n",
    "        return self\n",
    "    def __next__(self):\n",
    "        if self.a <= self.n:  \n",
    "            x = self.a  \n",
    "            self.a += 1\n",
    "            return x\n",
    "        else:\n",
    "            raise StopIteration\n",
    "\n",
    "n = int(input(\"number: \"))\n",
    "a = numbers(n)\n",
    "iterat = iter(a)\n",
    "\n",
    "res = \"\"\n",
    "for x in iterat:\n",
    "    if (x%2==0) and (x==n or x==n-1):\n",
    "        res+=str(x)\n",
    "    elif (x%2==0) and (x!=n):\n",
    "        res+=str(x)+ \",\" \n",
    "print(res)"
   ]
  },
  {
   "cell_type": "code",
   "execution_count": 48,
   "id": "13d3b5a9-0d2d-4590-a4ff-b698d772da9f",
   "metadata": {},
   "outputs": [
    {
     "name": "stdin",
     "output_type": "stream",
     "text": [
      "number:  50\n"
     ]
    },
    {
     "name": "stdout",
     "output_type": "stream",
     "text": [
      "12\n",
      "24\n",
      "36\n",
      "48\n"
     ]
    }
   ],
   "source": [
    "class numbers:\n",
    "    def __init__(self, n):\n",
    "        self.n = n \n",
    "    def __iter__(self):\n",
    "        self.a = 1  \n",
    "        return self\n",
    "    def __next__(self):\n",
    "        if self.a <= self.n:  \n",
    "            x = self.a  \n",
    "            self.a += 1\n",
    "            return x\n",
    "        else:\n",
    "            raise StopIteration\n",
    "\n",
    "n = int(input(\"number: \"))\n",
    "a = numbers(n)\n",
    "iterat = iter(a)\n",
    "\n",
    "for x in iterat:\n",
    "    if (x%3 ==0 and x%4 ==0):\n",
    "        print(x)\n",
    "        "
   ]
  },
  {
   "cell_type": "code",
   "execution_count": 50,
   "id": "a7cbda81-474b-4bbc-b631-f4aaa6051abf",
   "metadata": {},
   "outputs": [
    {
     "name": "stdin",
     "output_type": "stream",
     "text": [
      "first number:  2\n",
      "second number:  14\n"
     ]
    },
    {
     "name": "stdout",
     "output_type": "stream",
     "text": [
      "4\n",
      "9\n",
      "16\n",
      "25\n",
      "36\n",
      "49\n",
      "64\n",
      "81\n",
      "100\n",
      "121\n",
      "144\n",
      "169\n",
      "196\n"
     ]
    }
   ],
   "source": [
    "class numbers:\n",
    "    def __init__(self, n, m):\n",
    "        self.n = n\n",
    "        self.m = m\n",
    "    def __iter__(self):\n",
    "        self.a = n  \n",
    "        return self\n",
    "    def __next__(self):\n",
    "        if self.a <= self.m:  \n",
    "            x = self.a  \n",
    "            self.a += 1\n",
    "            return x**2\n",
    "        else:\n",
    "            raise StopIteration\n",
    "\n",
    "n = int(input(\"first number: \"))\n",
    "m = int(input(\"second number: \"))\n",
    "a = numbers(n,m)\n",
    "iterat = iter(a)\n",
    "\n",
    "for x in iterat:\n",
    "    print(x)"
   ]
  },
  {
   "cell_type": "code",
   "execution_count": 52,
   "id": "c71767fc-faf3-4541-90ac-63bde69a9afa",
   "metadata": {},
   "outputs": [
    {
     "name": "stdin",
     "output_type": "stream",
     "text": [
      "number:  10\n"
     ]
    },
    {
     "name": "stdout",
     "output_type": "stream",
     "text": [
      "10\n",
      "9\n",
      "8\n",
      "7\n",
      "6\n",
      "5\n",
      "4\n",
      "3\n",
      "2\n",
      "1\n",
      "0\n"
     ]
    }
   ],
   "source": [
    "class numbers:\n",
    "    def __init__(self, n):\n",
    "        self.n = n \n",
    "    def __iter__(self):\n",
    "        self.a = 0  \n",
    "        return self\n",
    "    def __next__(self):\n",
    "        if self.a <= self.n:  \n",
    "            x = self.n  \n",
    "            self.n -= 1\n",
    "            return x\n",
    "        else:\n",
    "            raise StopIteration\n",
    "\n",
    "\n",
    "n = int(input(\"number: \"))\n",
    "a = numbers(n)\n",
    "iterat = iter(a)\n",
    "\n",
    "for x in iterat:\n",
    "    print(x)"
   ]
  },
  {
   "cell_type": "code",
   "execution_count": 36,
   "id": "402c9b7e-4124-4c35-89ef-84cd8422a608",
   "metadata": {},
   "outputs": [
    {
     "name": "stdin",
     "output_type": "stream",
     "text": [
      "input degree: 15\n"
     ]
    },
    {
     "name": "stdout",
     "output_type": "stream",
     "text": [
      "in radians: 0.261799\n"
     ]
    }
   ],
   "source": [
    "import math\n",
    "def radian(a):\n",
    "    return a * (math.pi / 180)\n",
    "    \n",
    "a = float(input(\"input degree:\"))\n",
    "r = radian(a)\n",
    "print(f\"in radians: {r:.6f}\")\n"
   ]
  },
  {
   "cell_type": "code",
   "execution_count": 54,
   "id": "26d07245-297d-41c7-946f-7c6babec7e61",
   "metadata": {},
   "outputs": [
    {
     "name": "stdin",
     "output_type": "stream",
     "text": [
      "input height: 5\n",
      "first num: 5\n",
      "second num: 6\n"
     ]
    },
    {
     "name": "stdout",
     "output_type": "stream",
     "text": [
      "Area of trapezoid is:27.5 \n"
     ]
    }
   ],
   "source": [
    "import math \n",
    "def area(h,plus):\n",
    "    a = (plus * h)/2\n",
    "    return a\n",
    "        \n",
    "h = float(input(\"input height:\"))\n",
    "a1 = float(input(\"first num:\"))\n",
    "a2 = float(input(\"second num:\"))\n",
    "plus = a1+a2\n",
    "\n",
    "Area = area(h, plus)  \n",
    "formatted_Area = f\"{Area:.1f}\"\n",
    "\n",
    "print(f\"Area of trapezoid is:{formatted_Area} \")"
   ]
  },
  {
   "cell_type": "code",
   "execution_count": 58,
   "id": "9fabeb18-75b0-4ef7-b69b-f616f4839c31",
   "metadata": {},
   "outputs": [
    {
     "name": "stdin",
     "output_type": "stream",
     "text": [
      "sides: 4\n",
      "length: 25\n"
     ]
    },
    {
     "name": "stdout",
     "output_type": "stream",
     "text": [
      "Area is:625 \n"
     ]
    }
   ],
   "source": [
    "from math import tan,pi\n",
    "def area(s,l):\n",
    "    a = (s * l**2)/(4 * tan(pi / s))\n",
    "    return a\n",
    "        \n",
    "s = float(input(\"sides:\"))\n",
    "l = float(input(\"length:\"))\n",
    "\n",
    "Area = area(s,l)  \n",
    "formatted_Area = f\"{Area:.0f}\"\n",
    "print(f\"Area is:{formatted_Area} \")\n"
   ]
  },
  {
   "cell_type": "code",
   "execution_count": 60,
   "id": "ad17330c-68e8-4e5c-830a-0a3be442ec57",
   "metadata": {},
   "outputs": [
    {
     "name": "stdin",
     "output_type": "stream",
     "text": [
      "height: 5\n",
      "length: 6\n"
     ]
    },
    {
     "name": "stdout",
     "output_type": "stream",
     "text": [
      "Area is: 30.0\n"
     ]
    }
   ],
   "source": [
    "import math\n",
    "def area(h,l):\n",
    "    a = h*l\n",
    "    return a\n",
    "        \n",
    "h = float(input(\"height:\"))\n",
    "l = float(input(\"length:\"))\n",
    "print(f\"Area is: {area(h,l):.1f}\")"
   ]
  },
  {
   "cell_type": "code",
   "execution_count": 62,
   "id": "9fa4e072-2d92-4912-9fd2-ce6e18e664dc",
   "metadata": {},
   "outputs": [
    {
     "name": "stdout",
     "output_type": "stream",
     "text": [
      "now: 2025-02-19\n",
      "5 days ago: 2025-02-14\n"
     ]
    }
   ],
   "source": [
    "from datetime import date,timedelta\n",
    "\n",
    "t= date.today()\n",
    "new= t-timedelta(days=5)\n",
    "print(\"now:\", t)\n",
    "print(\"5 days ago:\", new)"
   ]
  },
  {
   "cell_type": "code",
   "execution_count": 64,
   "id": "5f7315c0-f726-4b8c-926c-93c1af5756a4",
   "metadata": {},
   "outputs": [
    {
     "name": "stdout",
     "output_type": "stream",
     "text": [
      "now: 2025-02-19\n",
      "yesterday: 2025-02-18\n",
      "tommorow: 2025-02-20\n"
     ]
    }
   ],
   "source": [
    "from datetime import date, timedelta\n",
    "\n",
    "t= date.today()\n",
    "y= t-timedelta(days=1)\n",
    "tommorow = t+timedelta(days=1)\n",
    "\n",
    "print(\"now:\", t)\n",
    "print(\"yesterday:\", y)\n",
    "print(\"tommorow:\", tommorow)"
   ]
  },
  {
   "cell_type": "code",
   "execution_count": 66,
   "id": "2d93503a-53e6-4ddc-ab11-6fa471a3f182",
   "metadata": {},
   "outputs": [
    {
     "name": "stdout",
     "output_type": "stream",
     "text": [
      "now: 2025-02-19 12:56:18.763519\n",
      "without microseconds: 2025-02-19 12:56:18\n"
     ]
    }
   ],
   "source": [
    "from datetime import datetime\n",
    "\n",
    "def microseconds():\n",
    "    now = datetime.now()\n",
    "    m = now.replace(microsecond=0)\n",
    "    return m\n",
    "\n",
    "print(\"now:\", datetime.now())\n",
    "print(\"without microseconds:\", microseconds())\n"
   ]
  },
  {
   "cell_type": "code",
   "execution_count": 80,
   "id": "33e765c5-e722-4f79-ba2c-6e713b68a08b",
   "metadata": {},
   "outputs": [
    {
     "name": "stdin",
     "output_type": "stream",
     "text": [
      " 02/13/24\n",
      " 05/03/24\n"
     ]
    },
    {
     "name": "stdout",
     "output_type": "stream",
     "text": [
      "6912000\n"
     ]
    }
   ],
   "source": [
    "from datetime import datetime\n",
    "\n",
    "a1 = input()\n",
    "a2 = input()\n",
    "date1 = datetime.strptime(a1, \"%x\")\n",
    "date2 = datetime.strptime(a2, \"%x\")\n",
    "\n",
    "difference = abs((date2 - date1).total_seconds())\n",
    "print(int(difference))"
   ]
  },
  {
   "cell_type": "code",
   "execution_count": 9,
   "id": "56a68cec-2726-40b0-9c4c-f6efed493673",
   "metadata": {},
   "outputs": [
    {
     "name": "stdout",
     "output_type": "stream",
     "text": [
      "Interface Status\n",
      "================================================================================\n",
      "DN                                                 Description          Speed   MTU  \n",
      "--------------------------------------------------------------------------------\n",
      "topology/pod-1/node-201/sys/phys-[eth1/33]                              inherit 9150 \n",
      "topology/pod-1/node-201/sys/phys-[eth1/34]                              inherit 9150 \n",
      "topology/pod-1/node-201/sys/phys-[eth1/35]                              inherit 9150 \n",
      "topology/pod-1/node-201/sys/phys-[eth1/36]                              inherit 9150 \n",
      "topology/pod-1/node-201/sys/phys-[eth1/1]                               inherit 9150 \n",
      "topology/pod-1/node-201/sys/phys-[eth1/2]                               inherit 9150 \n",
      "topology/pod-1/node-201/sys/phys-[eth1/3]                               inherit 9150 \n",
      "topology/pod-1/node-201/sys/phys-[eth1/4]                               inherit 9150 \n",
      "topology/pod-1/node-201/sys/phys-[eth1/5]                               inherit 9150 \n",
      "topology/pod-1/node-201/sys/phys-[eth1/6]                               inherit 9150 \n",
      "topology/pod-1/node-201/sys/phys-[eth1/7]                               inherit 9150 \n",
      "topology/pod-1/node-201/sys/phys-[eth1/8]                               inherit 9150 \n",
      "topology/pod-1/node-201/sys/phys-[eth1/9]                               inherit 9150 \n",
      "topology/pod-1/node-201/sys/phys-[eth1/10]                              inherit 9150 \n",
      "topology/pod-1/node-201/sys/phys-[eth1/11]                              inherit 9150 \n",
      "topology/pod-1/node-201/sys/phys-[eth1/12]                              inherit 9150 \n",
      "topology/pod-1/node-201/sys/phys-[eth1/13]                              inherit 9150 \n",
      "topology/pod-1/node-201/sys/phys-[eth1/14]                              inherit 9150 \n"
     ]
    }
   ],
   "source": [
    "import json\n",
    "\n",
    "with open(r\"C:\\Users\\akalb\\Downloads\\sample-data.json\") as file:\n",
    "    data = json.load(file)\n",
    "\n",
    "print(\"Interface Status\")\n",
    "print(\"=\" * 80)\n",
    "print(f\"{'DN':<50} {'Description':<20} {'Speed':<7} {'MTU':<5}\")\n",
    "print(\"-\" * 80)\n",
    "\n",
    "for item in data[\"imdata\"]:\n",
    "    attr = item[\"l1PhysIf\"][\"attributes\"]\n",
    "    dn = attr[\"dn\"]\n",
    "    speed = attr[\"speed\"]\n",
    "    mtu = attr[\"mtu\"]\n",
    "    print(f\"{dn:<50} {'':<20} {speed:<7} {mtu:<5}\")\n"
   ]
  },
  {
   "cell_type": "code",
   "execution_count": null,
   "id": "66907796-ea8e-4e21-8346-c68aa1c853df",
   "metadata": {},
   "outputs": [],
   "source": []
  }
 ],
 "metadata": {
  "kernelspec": {
   "display_name": "Python [conda env:base] *",
   "language": "python",
   "name": "conda-base-py"
  },
  "language_info": {
   "codemirror_mode": {
    "name": "ipython",
    "version": 3
   },
   "file_extension": ".py",
   "mimetype": "text/x-python",
   "name": "python",
   "nbconvert_exporter": "python",
   "pygments_lexer": "ipython3",
   "version": "3.12.7"
  }
 },
 "nbformat": 4,
 "nbformat_minor": 5
}
