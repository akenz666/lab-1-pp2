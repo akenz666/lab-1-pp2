{
 "cells": [
  {
   "cell_type": "markdown",
   "id": "6cc63cfb-cdb2-41c7-9859-198a7e2580ea",
   "metadata": {},
   "source": [
    "Boolean "
   ]
  },
  {
   "cell_type": "code",
   "execution_count": 2,
   "id": "b9d6060f-a969-4b0b-850c-773be4c2c7ad",
   "metadata": {},
   "outputs": [
    {
     "name": "stdout",
     "output_type": "stream",
     "text": [
      "True\n",
      "True\n",
      "False\n"
     ]
    }
   ],
   "source": [
    "print(1<3)\n",
    "print(2==2)\n",
    "print(3>4)"
   ]
  },
  {
   "cell_type": "code",
   "execution_count": 3,
   "id": "a9903ea7-b610-4320-b0ad-237afa4268e0",
   "metadata": {},
   "outputs": [
    {
     "name": "stdout",
     "output_type": "stream",
     "text": [
      "b is greater than a\n"
     ]
    }
   ],
   "source": [
    "a=4\n",
    "b=8\n",
    "if a>b:\n",
    "    print(\"a is greater than b\")\n",
    "else:\n",
    "    print(\"b is greater than a\")"
   ]
  },
  {
   "cell_type": "code",
   "execution_count": 4,
   "id": "3bca1922-5a73-4295-bfb0-6a3f47845d4b",
   "metadata": {},
   "outputs": [
    {
     "name": "stdout",
     "output_type": "stream",
     "text": [
      "True\n",
      "True\n"
     ]
    }
   ],
   "source": [
    "print(bool(\"PP2 is fun\"))\n",
    "print(bool(30))"
   ]
  },
  {
   "cell_type": "code",
   "execution_count": 5,
   "id": "580ec73d-14d3-4eaa-a909-0ed60b133a88",
   "metadata": {},
   "outputs": [
    {
     "name": "stdout",
     "output_type": "stream",
     "text": [
      "True\n",
      "True\n"
     ]
    }
   ],
   "source": [
    "a=32\n",
    "b=\"50cent\"\n",
    "print(bool(a))\n",
    "print(bool(b))"
   ]
  },
  {
   "cell_type": "code",
   "execution_count": 6,
   "id": "c01b6fd4-590d-4a85-b305-34a2b0d733bd",
   "metadata": {},
   "outputs": [
    {
     "data": {
      "text/plain": [
       "True"
      ]
     },
     "execution_count": 6,
     "metadata": {},
     "output_type": "execute_result"
    }
   ],
   "source": [
    "bool(\"qqq\")\n",
    "bool(666)\n",
    "bool([\"travis scott\", \"playboi carti\", \"yeat\"])"
   ]
  },
  {
   "cell_type": "code",
   "execution_count": 7,
   "id": "a52e900c-5431-4038-9c63-8d34b4c2a9ea",
   "metadata": {},
   "outputs": [
    {
     "name": "stdout",
     "output_type": "stream",
     "text": [
      "False\n"
     ]
    }
   ],
   "source": [
    "class myclass():\n",
    "  def __len__(qqq):\n",
    "    return 0\n",
    "\n",
    "myobj = myclass()\n",
    "print(bool(myobj))"
   ]
  },
  {
   "cell_type": "code",
   "execution_count": 10,
   "id": "b404192c-1629-4847-a53d-37b4d034e0e6",
   "metadata": {},
   "outputs": [
    {
     "name": "stdout",
     "output_type": "stream",
     "text": [
      "True\n"
     ]
    }
   ],
   "source": [
    "def myFunction() :\n",
    "  return True\n",
    "\n",
    "print(myFunction())"
   ]
  },
  {
   "cell_type": "code",
   "execution_count": 11,
   "id": "3dcb2245-2061-4752-95a7-992d4ee16ac9",
   "metadata": {},
   "outputs": [
    {
     "name": "stdout",
     "output_type": "stream",
     "text": [
      "yep\n"
     ]
    }
   ],
   "source": [
    "def myFunction() :\n",
    "  return True\n",
    "\n",
    "if myFunction():\n",
    "  print(\"yep\")\n",
    "else:\n",
    "  print(\"nah\")"
   ]
  },
  {
   "cell_type": "code",
   "execution_count": 12,
   "id": "fae261c9-1e24-47d0-9f01-b2341037cbbd",
   "metadata": {},
   "outputs": [
    {
     "name": "stdout",
     "output_type": "stream",
     "text": [
      "True\n"
     ]
    }
   ],
   "source": [
    "x = 20200\n",
    "print(isinstance(x, int))"
   ]
  },
  {
   "cell_type": "markdown",
   "id": "49faab78-7cdb-49ae-a491-a3f59b556efe",
   "metadata": {},
   "source": [
    "operators"
   ]
  },
  {
   "cell_type": "code",
   "execution_count": 13,
   "id": "20c9b0a4-6a5f-4759-b966-d7fdba9283f1",
   "metadata": {},
   "outputs": [
    {
     "name": "stdout",
     "output_type": "stream",
     "text": [
      "9\n"
     ]
    }
   ],
   "source": [
    "print((20-4) - (4+3))"
   ]
  },
  {
   "cell_type": "code",
   "execution_count": 14,
   "id": "184845d1-8439-4d5b-9248-e88b6ffc119a",
   "metadata": {},
   "outputs": [
    {
     "name": "stdout",
     "output_type": "stream",
     "text": [
      "50\n"
     ]
    }
   ],
   "source": [
    "print(10 + 4 * 10)"
   ]
  },
  {
   "cell_type": "code",
   "execution_count": 15,
   "id": "13cdda50-4012-477b-b099-70e6f8151fe1",
   "metadata": {},
   "outputs": [
    {
     "name": "stdout",
     "output_type": "stream",
     "text": [
      "5\n"
     ]
    }
   ],
   "source": [
    "print(5 + 4 - 7 + 3)"
   ]
  },
  {
   "cell_type": "code",
   "execution_count": 16,
   "id": "adb05167-d651-491a-bcf7-692fcaa29cf3",
   "metadata": {},
   "outputs": [
    {
     "name": "stdout",
     "output_type": "stream",
     "text": [
      "['laptop', 'knowledge', 'skills']\n"
     ]
    }
   ],
   "source": [
    "pp2_list = [\"laptop\", \"knowledge\", \"skills\"]\n",
    "print(pp2_list)\n"
   ]
  },
  {
   "cell_type": "code",
   "execution_count": 17,
   "id": "77a14498-2b63-46df-85dc-1fd2280bb5ba",
   "metadata": {},
   "outputs": [
    {
     "name": "stdout",
     "output_type": "stream",
     "text": [
      "['laptop', 'knowledge', 'skills', 'laptop', 'skills']\n"
     ]
    }
   ],
   "source": [
    "pp2_list = [\"laptop\", \"knowledge\", \"skills\", \"laptop\", \"skills\"]\n",
    "print(pp2_list)"
   ]
  },
  {
   "cell_type": "code",
   "execution_count": 18,
   "id": "8b51b5ac-98dc-4962-af1c-c2b0de245b62",
   "metadata": {},
   "outputs": [
    {
     "name": "stdout",
     "output_type": "stream",
     "text": [
      "3\n"
     ]
    }
   ],
   "source": [
    "pp2_list = [\"laptop\", \"knowledge\", \"skills\"]\n",
    "print(len(pp2_list))"
   ]
  },
  {
   "cell_type": "code",
   "execution_count": 19,
   "id": "0e7fd6c9-e722-4f84-99d8-a64b2191493f",
   "metadata": {},
   "outputs": [],
   "source": [
    "list1 = [\"apple\", \"banana\", \"cherry\"]\n",
    "list2 = [1, 5, 7, 9, 3]\n",
    "list3 = [True, False, False]"
   ]
  },
  {
   "cell_type": "code",
   "execution_count": 20,
   "id": "eb43abee-97ca-4e52-8727-f1d563c24580",
   "metadata": {},
   "outputs": [],
   "source": [
    "list1 = [\"20\", 130, True, 40, \"qq\"]"
   ]
  },
  {
   "cell_type": "code",
   "execution_count": 21,
   "id": "58f14e32-73fc-4db5-9e6f-c62cea2d71ec",
   "metadata": {},
   "outputs": [
    {
     "name": "stdout",
     "output_type": "stream",
     "text": [
      "<class 'list'>\n"
     ]
    }
   ],
   "source": [
    "mylist = [\"ray\", \"charles\", \"imma make her fumble\"]\n",
    "print(type(mylist))"
   ]
  },
  {
   "cell_type": "code",
   "execution_count": 22,
   "id": "16a14cd0-bc90-4c7b-9b44-2a1cb0ececd9",
   "metadata": {},
   "outputs": [
    {
     "name": "stdout",
     "output_type": "stream",
     "text": [
      "['eee', 'wew', 'qq']\n"
     ]
    }
   ],
   "source": [
    "thislist = list((\"eee\", \"wew\", \"qq\")) \n",
    "print(thislist)"
   ]
  },
  {
   "cell_type": "code",
   "execution_count": 23,
   "id": "448644fe-0c60-46de-97bd-cf59b88507df",
   "metadata": {},
   "outputs": [
    {
     "name": "stdout",
     "output_type": "stream",
     "text": [
      "wew\n"
     ]
    }
   ],
   "source": [
    "thislist = list((\"eee\", \"wew\", \"qq\")) \n",
    "print(thislist[1])"
   ]
  },
  {
   "cell_type": "code",
   "execution_count": 24,
   "id": "a4fb9531-9720-49f6-8ebf-4a889ffbbab9",
   "metadata": {},
   "outputs": [
    {
     "name": "stdout",
     "output_type": "stream",
     "text": [
      "qq\n"
     ]
    }
   ],
   "source": [
    "thislist = [\"eee\", \"wew\", \"qq\"]\n",
    "print(thislist[-1])"
   ]
  },
  {
   "cell_type": "code",
   "execution_count": 25,
   "id": "d8f10a39-f211-4217-9445-1e03ba6b9fc3",
   "metadata": {},
   "outputs": [
    {
     "name": "stdout",
     "output_type": "stream",
     "text": [
      "['eee', 'wew']\n"
     ]
    }
   ],
   "source": [
    "thislist = [\"eee\", \"wew\", \"qq\"]\n",
    "print(thislist[0:2])\n"
   ]
  },
  {
   "cell_type": "code",
   "execution_count": 1,
   "id": "e749c5fb-be81-471e-8dd6-131e88ace905",
   "metadata": {},
   "outputs": [
    {
     "name": "stdout",
     "output_type": "stream",
     "text": [
      "qq\n"
     ]
    }
   ],
   "source": [
    "thislist = [\"eee\", \"wew\", \"qq\"]\n",
    "print(thislist[2])"
   ]
  },
  {
   "cell_type": "code",
   "execution_count": 4,
   "id": "e776a5cc-2fad-4341-9aeb-54c67df90502",
   "metadata": {},
   "outputs": [
    {
     "name": "stdout",
     "output_type": "stream",
     "text": [
      "['eee', 'wew']\n"
     ]
    }
   ],
   "source": [
    "thislist = [\"eee\", \"wew\", \"qq\"]\n",
    "print(thislist[-3:-1])"
   ]
  },
  {
   "cell_type": "code",
   "execution_count": 6,
   "id": "14fb0348-57a1-43aa-bae6-303019b49e4e",
   "metadata": {},
   "outputs": [
    {
     "name": "stdout",
     "output_type": "stream",
     "text": [
      "yes 'eee' in the list\n"
     ]
    }
   ],
   "source": [
    "thislist = [\"eee\", \"wew\", \"qq\"]\n",
    "if \"eee\" in thislist:\n",
    "    print(\"yes 'eee' in the list\")\n",
    "else:\n",
    "    print(\"no it is not\")"
   ]
  },
  {
   "cell_type": "code",
   "execution_count": 7,
   "id": "804e26a9-7f9b-43b8-8291-6ea2147647e4",
   "metadata": {},
   "outputs": [
    {
     "name": "stdout",
     "output_type": "stream",
     "text": [
      "['eee', 'wew', 'zxc']\n"
     ]
    }
   ],
   "source": [
    "thislist = [\"eee\", \"wew\", \"qq\"]\n",
    "thislist[2]= \"zxc\"\n",
    "print(thislist)"
   ]
  },
  {
   "cell_type": "code",
   "execution_count": 9,
   "id": "7da532f9-ab86-4227-9746-b1dfccace9b6",
   "metadata": {},
   "outputs": [
    {
     "name": "stdout",
     "output_type": "stream",
     "text": [
      "['qwe', '666', 'qq']\n"
     ]
    }
   ],
   "source": [
    "thislist = [\"eee\", \"wew\", \"qq\"]\n",
    "thislist[0:2] = [\"qwe\", \"666\"]\n",
    "print(thislist)"
   ]
  },
  {
   "cell_type": "code",
   "execution_count": 11,
   "id": "2864fdab-bcb6-4d9a-85c4-f6f8ebc7549f",
   "metadata": {},
   "outputs": [
    {
     "name": "stdout",
     "output_type": "stream",
     "text": [
      "['eee', 'sf', 'arc warden', 'qq']\n"
     ]
    }
   ],
   "source": [
    "thislist = [\"eee\", \"wew\", \"qq\"]\n",
    "thislist[1:2] = [\"sf\", \"arc warden\"]\n",
    "print(thislist)"
   ]
  },
  {
   "cell_type": "code",
   "execution_count": 15,
   "id": "9e2e9b67-7cf6-4321-a9a7-e0522b8a816d",
   "metadata": {},
   "outputs": [
    {
     "name": "stdout",
     "output_type": "stream",
     "text": [
      "['eee', 'wew', 'qwe', 'qq']\n"
     ]
    }
   ],
   "source": [
    "thislist = [\"eee\", \"wew\", \"qq\"]\n",
    "thislist.insert(2, \"qwe\")\n",
    "print(thislist)"
   ]
  },
  {
   "cell_type": "code",
   "execution_count": 16,
   "id": "eebe4a29-40eb-45d4-bf1a-1ca230cbcb02",
   "metadata": {},
   "outputs": [
    {
     "name": "stdout",
     "output_type": "stream",
     "text": [
      "['eee', 'wew', 'qq', 'yayee']\n"
     ]
    }
   ],
   "source": [
    "thislist = [\"eee\", \"wew\", \"qq\"]\n",
    "thislist.append(\"yayee\")\n",
    "print(thislist)"
   ]
  },
  {
   "cell_type": "code",
   "execution_count": 17,
   "id": "95251c0b-3016-4bbf-a399-f01b3e22060c",
   "metadata": {},
   "outputs": [
    {
     "name": "stdout",
     "output_type": "stream",
     "text": [
      "['eee', 'wew', 'qq', 'cvv', 'vvs', 'cp']\n"
     ]
    }
   ],
   "source": [
    "thislist = [\"eee\", \"wew\", \"qq\"]\n",
    "anlist = [\"cvv\", \"vvs\", \"cp\"]\n",
    "thislist.extend(anlist)\n",
    "print(thislist)"
   ]
  },
  {
   "cell_type": "code",
   "execution_count": 19,
   "id": "16de3510-30dd-49a8-a751-74022f329eec",
   "metadata": {},
   "outputs": [
    {
     "name": "stdout",
     "output_type": "stream",
     "text": [
      "['eee', 'wew', 'qq', '1', '2']\n"
     ]
    }
   ],
   "source": [
    "thislist = [\"eee\", \"wew\", \"qq\"]\n",
    "thistuple = (\"1\", \"2\")\n",
    "thislist.extend(thistuple)\n",
    "print(thislist)"
   ]
  },
  {
   "cell_type": "code",
   "execution_count": 20,
   "id": "65c6597c-3c12-4e2c-8d3b-ed148929e6ab",
   "metadata": {},
   "outputs": [
    {
     "name": "stdout",
     "output_type": "stream",
     "text": [
      "['wew', 'qq']\n"
     ]
    }
   ],
   "source": [
    "thislist = [\"eee\", \"wew\", \"qq\"]\n",
    "thislist.remove(\"eee\")\n",
    "print(thislist)\n"
   ]
  },
  {
   "cell_type": "code",
   "execution_count": 21,
   "id": "a995913d-54fb-4ffc-95aa-d293435974ca",
   "metadata": {},
   "outputs": [
    {
     "name": "stdout",
     "output_type": "stream",
     "text": [
      "['wew', 'qq', 'eee']\n"
     ]
    }
   ],
   "source": [
    "thislist = [\"eee\", \"wew\", \"qq\", \"eee\"]\n",
    "thislist.remove(\"eee\")\n",
    "print(thislist)\n"
   ]
  },
  {
   "cell_type": "code",
   "execution_count": 22,
   "id": "09ea9a79-d227-47bd-b19a-72c27452332b",
   "metadata": {},
   "outputs": [
    {
     "name": "stdout",
     "output_type": "stream",
     "text": [
      "['eee', 'wew']\n"
     ]
    }
   ],
   "source": [
    "thislist = [\"eee\", \"wew\", \"qq\"]\n",
    "thislist.pop(2)\n",
    "print(thislist)\n"
   ]
  },
  {
   "cell_type": "code",
   "execution_count": 23,
   "id": "e2bfa737-3888-4ccc-af23-2b712ef2c956",
   "metadata": {},
   "outputs": [
    {
     "name": "stdout",
     "output_type": "stream",
     "text": [
      "['eee', 'wew']\n"
     ]
    }
   ],
   "source": [
    "thislist = [\"eee\", \"wew\", \"qq\"]\n",
    "thislist.pop()\n",
    "print(thislist)\n"
   ]
  },
  {
   "cell_type": "code",
   "execution_count": 24,
   "id": "a04e2971-9a52-4ec4-9255-01e1830bb17e",
   "metadata": {},
   "outputs": [
    {
     "name": "stdout",
     "output_type": "stream",
     "text": [
      "['eee', 'qq']\n"
     ]
    }
   ],
   "source": [
    "thislist = [\"eee\", \"wew\", \"qq\"]\n",
    "del thislist[1]\n",
    "print(thislist)\n"
   ]
  },
  {
   "cell_type": "code",
   "execution_count": 26,
   "id": "5e0d9d92-5cd2-4e85-9bc2-e4f848f01956",
   "metadata": {},
   "outputs": [
    {
     "name": "stdout",
     "output_type": "stream",
     "text": [
      "thislist removed\n"
     ]
    }
   ],
   "source": [
    "thislist = [\"eee\", \"wew\", \"qq\"]\n",
    "del thislist\n",
    "print(\"thislist removed\")\n"
   ]
  },
  {
   "cell_type": "code",
   "execution_count": 27,
   "id": "7fc35d65-cd8d-4dc5-a7ff-3f02f46c3192",
   "metadata": {},
   "outputs": [
    {
     "name": "stdout",
     "output_type": "stream",
     "text": [
      "[]\n"
     ]
    }
   ],
   "source": [
    "thislist = [\"eee\", \"wew\", \"qq\"]\n",
    "thislist.clear()\n",
    "print(thislist)"
   ]
  },
  {
   "cell_type": "markdown",
   "id": "4ab20779-5c54-4fb9-8d07-ed466e89d59f",
   "metadata": {},
   "source": [
    "loop list"
   ]
  },
  {
   "cell_type": "code",
   "execution_count": 28,
   "id": "d9b358fc-4899-4703-8571-2eb8f931dde4",
   "metadata": {},
   "outputs": [
    {
     "name": "stdout",
     "output_type": "stream",
     "text": [
      "3\n"
     ]
    }
   ],
   "source": [
    "b=0\n",
    "thislist = [\"eee\", \"wew\", \"qq\"]\n",
    "for a in thislist:\n",
    "    b+=1\n",
    "print(b)    \n",
    "    "
   ]
  },
  {
   "cell_type": "code",
   "execution_count": 29,
   "id": "19cce2b2-0a0f-4671-9a7f-97df4f33a9b5",
   "metadata": {},
   "outputs": [
    {
     "name": "stdout",
     "output_type": "stream",
     "text": [
      "eee\n",
      "wew\n",
      "qq\n"
     ]
    }
   ],
   "source": [
    "thislist = [\"eee\", \"wew\", \"qq\"]\n",
    "for a in range(len(thislist)):\n",
    "    print(thislist[a])"
   ]
  },
  {
   "cell_type": "code",
   "execution_count": 30,
   "id": "c9295b4c-13f0-4760-b59b-cf111f235ad1",
   "metadata": {},
   "outputs": [
    {
     "name": "stdout",
     "output_type": "stream",
     "text": [
      "eee\n",
      "wew\n",
      "qq\n"
     ]
    },
    {
     "data": {
      "text/plain": [
       "[None, None, None]"
      ]
     },
     "execution_count": 30,
     "metadata": {},
     "output_type": "execute_result"
    }
   ],
   "source": [
    "thislist = [\"eee\", \"wew\", \"qq\"]\n",
    "[print(x) for x in thislist]"
   ]
  },
  {
   "cell_type": "code",
   "execution_count": 43,
   "id": "8b051f3a-9d4a-4f5d-9888-deb9ef771cd0",
   "metadata": {},
   "outputs": [
    {
     "name": "stdout",
     "output_type": "stream",
     "text": [
      "['amira', 'pump']\n"
     ]
    }
   ],
   "source": [
    "qk = [\"ali\", \"aki\", \"amira\", \"pump\"]\n",
    "newlist = []\n",
    "for x in qk:\n",
    "    if \"m\" in x:\n",
    "        newlist.append(x)\n",
    "print(newlist)"
   ]
  },
  {
   "cell_type": "code",
   "execution_count": 46,
   "id": "c4a2a20b-cb54-428e-a313-c95f1a32856c",
   "metadata": {},
   "outputs": [
    {
     "name": "stdout",
     "output_type": "stream",
     "text": [
      "['amira', 'pump']\n"
     ]
    }
   ],
   "source": [
    "qk = [\"ali\", \"aki\", \"amira\", \"pump\"]\n",
    "newlist = [x for x in qk if \"m\" in x]\n",
    "print(newlist)"
   ]
  },
  {
   "cell_type": "markdown",
   "id": "c97794dc-c29f-405f-bdf0-f939fd30bb7e",
   "metadata": {},
   "source": [
    "sort"
   ]
  },
  {
   "cell_type": "code",
   "execution_count": 48,
   "id": "7bf3c5c9-0c8e-4277-a800-69c690526a75",
   "metadata": {},
   "outputs": [
    {
     "name": "stdout",
     "output_type": "stream",
     "text": [
      "['eee', 'qq', 'wew']\n"
     ]
    }
   ],
   "source": [
    "thislist = [\"eee\", \"wew\", \"qq\"]\n",
    "thislist.sort()\n",
    "print(thislist)"
   ]
  },
  {
   "cell_type": "code",
   "execution_count": 50,
   "id": "5f9cc1e4-ffd1-4238-83d2-f4cf4ee741bb",
   "metadata": {},
   "outputs": [
    {
     "name": "stdout",
     "output_type": "stream",
     "text": [
      "['wew', 'qq', 'eee']\n"
     ]
    }
   ],
   "source": [
    "thislist = [\"eee\", \"wew\", \"qq\"]\n",
    "thislist.sort(reverse = True)\n",
    "print(thislist)"
   ]
  },
  {
   "cell_type": "code",
   "execution_count": 1,
   "id": "9780709c-6e46-4dcd-a0a5-d08f0c866c75",
   "metadata": {},
   "outputs": [
    {
     "name": "stdout",
     "output_type": "stream",
     "text": [
      "[6, 3, 1]\n"
     ]
    }
   ],
   "source": [
    "thislist = [1, 3, 6]\n",
    "thislist.sort(reverse = True)\n",
    "print(thislist)"
   ]
  },
  {
   "cell_type": "code",
   "execution_count": 21,
   "id": "e7e7a341-7031-4162-9ccf-b776bfb3c8e9",
   "metadata": {},
   "outputs": [
    {
     "name": "stdout",
     "output_type": "stream",
     "text": [
      "['eee', 'wew', 'qq']\n"
     ]
    }
   ],
   "source": [
    "thislist = [\"eee\", \"wew\", \"qq\"]\n",
    "ylist = thislist.copy()\n",
    "print(ylist)"
   ]
  },
  {
   "cell_type": "code",
   "execution_count": 90,
   "id": "7c9cf304-bb65-45c2-af2e-4534d6a3e63c",
   "metadata": {},
   "outputs": [
    {
     "name": "stdout",
     "output_type": "stream",
     "text": [
      "['apple', 'banana', 'cherry']\n"
     ]
    }
   ],
   "source": [
    "thislist = [\"apple\", \"banana\", \"cherry\"]\n",
    "mylist = list(thislist)\n",
    "print(mylist)\n"
   ]
  },
  {
   "cell_type": "code",
   "execution_count": 25,
   "id": "0428fa94-5b5f-45da-8ce6-a75d3d55f563",
   "metadata": {},
   "outputs": [
    {
     "name": "stdout",
     "output_type": "stream",
     "text": [
      "['eee', 'wew', 'qq']\n"
     ]
    }
   ],
   "source": [
    "thislist = [\"eee\", \"wew\", \"qq\"]\n",
    "ylist = thislist[:]\n",
    "print(ylist)"
   ]
  },
  {
   "cell_type": "code",
   "execution_count": 27,
   "id": "23fc377c-ec4b-40ac-831b-a6c4daa472fd",
   "metadata": {},
   "outputs": [
    {
     "name": "stdout",
     "output_type": "stream",
     "text": [
      "['eee', 'wew', 'qq', 'www', 'wqqw', 'ss']\n"
     ]
    }
   ],
   "source": [
    "thislist = [\"eee\", \"wew\", \"qq\"]\n",
    "anlist = [\"www\", \"wqqw\", \"ss\"]\n",
    "print(thislist + anlist)"
   ]
  },
  {
   "cell_type": "code",
   "execution_count": 33,
   "id": "ce485a4b-7924-4142-8414-a2141a822cb2",
   "metadata": {},
   "outputs": [
    {
     "name": "stdout",
     "output_type": "stream",
     "text": [
      "['eee', 'wew', 'qq', 'www', 'wqqw', 'ss']\n"
     ]
    }
   ],
   "source": [
    "thislist = [\"eee\", \"wew\", \"qq\"]\n",
    "anlist = [\"www\", \"wqqw\", \"ss\"]\n",
    "for x in anlist:\n",
    "    thislist.append(x)\n",
    "print(thislist)    "
   ]
  },
  {
   "cell_type": "code",
   "execution_count": 35,
   "id": "4f502eb6-5599-4d3d-8166-e4a41cca3f02",
   "metadata": {},
   "outputs": [
    {
     "name": "stdout",
     "output_type": "stream",
     "text": [
      "['eee', 'wew', 'qq', 'www', 'wqqw', 'ss']\n"
     ]
    }
   ],
   "source": [
    "thislist = [\"eee\", \"wew\", \"qq\"]\n",
    "anlist = [\"www\", \"wqqw\", \"ss\"]\n",
    "thislist.extend(anlist)\n",
    "print(thislist)"
   ]
  },
  {
   "cell_type": "code",
   "execution_count": 37,
   "id": "54e599b3-7fac-4637-ac05-03be944eb148",
   "metadata": {},
   "outputs": [],
   "source": [
    "# append()\tAdds an element at the end of the list\n",
    "# clear()\tRemoves all the elements from the list\n",
    "# copy()\tReturns a copy of the list\n",
    "# count()\tReturns the number of elements with the specified value\n",
    "# extend()\tAdd the elements of a list (or any iterable), to the end of the current list\n",
    "# index()\tReturns the index of the first element with the specified value\n",
    "# insert()\tAdds an element at the specified position\n",
    "# pop()\tRemoves the element at the specified position\n",
    "# remove()\tRemoves the item with the specified value\n",
    "# reverse()\tReverses the order of the list\n",
    "# sort()\tSorts the list"
   ]
  },
  {
   "cell_type": "markdown",
   "id": "bc891db4-1664-4a1d-8af0-f49ce2a8753a",
   "metadata": {},
   "source": [
    "Tuples"
   ]
  },
  {
   "cell_type": "code",
   "execution_count": 40,
   "id": "2f451e23-95c2-4d60-9a25-61363925e3d7",
   "metadata": {},
   "outputs": [
    {
     "name": "stdout",
     "output_type": "stream",
     "text": [
      "('Almansur', 'Akhmedi', 'Yerdaulet')\n"
     ]
    }
   ],
   "source": [
    "tuplinho = (\"Almansur\", \"Akhmedi\", \"Yerdaulet\")\n",
    "print(tuplinho)"
   ]
  },
  {
   "cell_type": "code",
   "execution_count": 44,
   "id": "1d2677c5-b4ca-47c4-9fc6-cf0ec9affeff",
   "metadata": {},
   "outputs": [
    {
     "name": "stdout",
     "output_type": "stream",
     "text": [
      "('qq', 'qq', 'ss', 'qw')\n"
     ]
    }
   ],
   "source": [
    "tuplinho = (\"qq\", \"qq\", \"ss\",\"qw\")\n",
    "print(tuplinho)"
   ]
  },
  {
   "cell_type": "code",
   "execution_count": 48,
   "id": "ee2b1da4-464e-4879-a496-d1045d8b177b",
   "metadata": {},
   "outputs": [
    {
     "name": "stdout",
     "output_type": "stream",
     "text": [
      "4\n"
     ]
    }
   ],
   "source": [
    "tuplinho = (\"qq\", \"qq\", \"ss\",\"qw\")\n",
    "print(len(tuplinho))"
   ]
  },
  {
   "cell_type": "code",
   "execution_count": 50,
   "id": "4cac6431-b64a-4d9e-869a-4a799f1a4a7a",
   "metadata": {},
   "outputs": [
    {
     "name": "stdout",
     "output_type": "stream",
     "text": [
      "<class 'tuple'>\n",
      "<class 'str'>\n"
     ]
    }
   ],
   "source": [
    "tuple1 = (\"qq\",)\n",
    "print(type(tuple1))\n",
    "tuple2 = (\"qq\")\n",
    "print(type(tuple2))"
   ]
  },
  {
   "cell_type": "code",
   "execution_count": 54,
   "id": "681a4599-23c5-4377-85f6-55385fa868e0",
   "metadata": {},
   "outputs": [
    {
     "name": "stdout",
     "output_type": "stream",
     "text": [
      "('qq', 'ww', 'zz') (1, 3, 6) (True, False, False)\n"
     ]
    }
   ],
   "source": [
    "tup1 = (\"qq\", \"ww\", \"zz\")\n",
    "tup2 = (1, 3 ,6)\n",
    "tup3 = (True, False, False)\n",
    "print(tup1,tup2,tup3)"
   ]
  },
  {
   "cell_type": "code",
   "execution_count": 56,
   "id": "11754e93-2c7b-48c6-b8e9-6f1cbe551bd1",
   "metadata": {},
   "outputs": [
    {
     "name": "stdout",
     "output_type": "stream",
     "text": [
      "('22', 22, 'qq', True)\n"
     ]
    }
   ],
   "source": [
    "tup = (\"22\", 22, \"qq\", True)\n",
    "print(tup)"
   ]
  },
  {
   "cell_type": "code",
   "execution_count": 58,
   "id": "d6b7fc55-3abf-4071-b72f-79b198bc5c0d",
   "metadata": {},
   "outputs": [
    {
     "name": "stdout",
     "output_type": "stream",
     "text": [
      "qq\n"
     ]
    }
   ],
   "source": [
    "tuplinho = (\"qq\", \"qq\", \"ss\",\"qw\")\n",
    "print(tuplinho[1])"
   ]
  },
  {
   "cell_type": "code",
   "execution_count": 60,
   "id": "35bfad2a-bf62-4d18-ab67-948b5b03e66b",
   "metadata": {},
   "outputs": [
    {
     "name": "stdout",
     "output_type": "stream",
     "text": [
      "qw\n"
     ]
    }
   ],
   "source": [
    "    tuplinho = (\"qq\", \"qq\", \"ss\",\"qw\")\n",
    "print(tuplinho[-1])"
   ]
  },
  {
   "cell_type": "code",
   "execution_count": 62,
   "id": "443dbaf3-f0ef-4dc4-bf7a-07f9cfd6d7bd",
   "metadata": {},
   "outputs": [
    {
     "name": "stdout",
     "output_type": "stream",
     "text": [
      "('qq', 'ss')\n"
     ]
    }
   ],
   "source": [
    "tuplinho = (\"qq\", \"qq\", \"ss\",\"qw\")\n",
    "print(tuplinho[1:3])"
   ]
  },
  {
   "cell_type": "code",
   "execution_count": 66,
   "id": "57e7f6f7-15fc-4ef2-8e25-3d9863040efd",
   "metadata": {},
   "outputs": [
    {
     "name": "stdout",
     "output_type": "stream",
     "text": [
      "('qq', 'qq', 'ss')\n"
     ]
    }
   ],
   "source": [
    "tuplinho = (\"qq\", \"qq\", \"ss\",\"qw\")\n",
    "print(tuplinho[:3])"
   ]
  },
  {
   "cell_type": "code",
   "execution_count": 68,
   "id": "9c313f48-b241-41eb-8018-61c161f8acdd",
   "metadata": {},
   "outputs": [
    {
     "name": "stdout",
     "output_type": "stream",
     "text": [
      "('ss', 'qw')\n"
     ]
    }
   ],
   "source": [
    "tuplinho = (\"qq\", \"qq\", \"ss\",\"qw\")\n",
    "print(tuplinho[2:])"
   ]
  },
  {
   "cell_type": "code",
   "execution_count": 70,
   "id": "a1cc9baa-bd46-45f8-bfcb-9315192b0489",
   "metadata": {},
   "outputs": [
    {
     "name": "stdout",
     "output_type": "stream",
     "text": [
      "('ss',)\n"
     ]
    }
   ],
   "source": [
    "tuplinho = (\"qq\", \"qq\", \"ss\",\"qw\")\n",
    "print(tuplinho[-2:-1])"
   ]
  },
  {
   "cell_type": "code",
   "execution_count": 72,
   "id": "00050cff-28f6-433c-aa75-0280dda45c84",
   "metadata": {},
   "outputs": [
    {
     "name": "stdout",
     "output_type": "stream",
     "text": [
      "yes\n"
     ]
    }
   ],
   "source": [
    "tuplinho = (\"qq\", \"qq\", \"ss\",\"qw\")\n",
    "if \"ss\" in tuplinho:\n",
    "    print(\"yes\")"
   ]
  },
  {
   "cell_type": "code",
   "execution_count": 84,
   "id": "930745b9-3ab9-4efd-8a28-6677ec0a6455",
   "metadata": {},
   "outputs": [
    {
     "name": "stdout",
     "output_type": "stream",
     "text": [
      "('qq', 'qq', 'ss', 'qw', 'zxc')\n"
     ]
    }
   ],
   "source": [
    "tuplinho = (\"qq\", \"qq\", \"ss\", \"qw\")\n",
    "x = list(tuplinho)  \n",
    "x.append(\"zxc\")     \n",
    "y = tuple(x)        \n",
    "print(y)\n"
   ]
  },
  {
   "cell_type": "code",
   "execution_count": 102,
   "id": "33f84809-8e1e-48c1-8f6c-41f01d22e6a3",
   "metadata": {},
   "outputs": [
    {
     "name": "stdout",
     "output_type": "stream",
     "text": [
      "('qq', 'qq', 'ss', 'qw')\n"
     ]
    }
   ],
   "source": [
    "\n",
    "tuplinho = (\"qq\", \"qq\", \"ss\", \"qw\")\n",
    "z= tuplinho\n",
    "print(z)"
   ]
  },
  {
   "cell_type": "code",
   "execution_count": 3,
   "id": "92b6ec3f-768b-4332-ac89-35d8c4a74ec9",
   "metadata": {},
   "outputs": [
    {
     "name": "stdout",
     "output_type": "stream",
     "text": [
      "apple\n",
      "['mango', 'papaya', 'pineapple']\n",
      "cherry\n"
     ]
    }
   ],
   "source": [
    "fruits = (\"apple\", \"mango\", \"papaya\", \"pineapple\", \"cherry\")\n",
    "\n",
    "(green, *tropic, red) = fruits\n",
    "\n",
    "print(green)\n",
    "print(tropic)\n",
    "print(red)"
   ]
  },
  {
   "cell_type": "code",
   "execution_count": 106,
   "id": "e5a98b30-af09-495b-8c01-a184c4a7dc8c",
   "metadata": {},
   "outputs": [
    {
     "name": "stdout",
     "output_type": "stream",
     "text": [
      "apple\n",
      "banana\n",
      "cherry\n"
     ]
    }
   ],
   "source": [
    "thistuple = (\"apple\", \"banana\", \"cherry\")\n",
    "for x in thistuple:\n",
    "  print(x)"
   ]
  },
  {
   "cell_type": "code",
   "execution_count": 108,
   "id": "861d17bc-2133-461a-a6fb-36108282662a",
   "metadata": {},
   "outputs": [
    {
     "name": "stdout",
     "output_type": "stream",
     "text": [
      "apple\n",
      "banana\n",
      "cherry\n"
     ]
    }
   ],
   "source": [
    "thistuple = (\"apple\", \"banana\", \"cherry\")\n",
    "for i in range(len(thistuple)):\n",
    "  print(thistuple[i])"
   ]
  },
  {
   "cell_type": "code",
   "execution_count": 110,
   "id": "50cd9c86-5b30-4356-8491-19c2b7e824d7",
   "metadata": {},
   "outputs": [
    {
     "name": "stdout",
     "output_type": "stream",
     "text": [
      "apple\n",
      "banana\n",
      "cherry\n"
     ]
    }
   ],
   "source": [
    "thistuple = (\"apple\", \"banana\", \"cherry\")\n",
    "i = 0\n",
    "while i < len(thistuple):\n",
    "  print(thistuple[i])\n",
    "  i = i + 1"
   ]
  },
  {
   "cell_type": "code",
   "execution_count": 112,
   "id": "ef5f9ee5-ff16-4ad7-8857-6bea9d4fc1eb",
   "metadata": {},
   "outputs": [
    {
     "name": "stdout",
     "output_type": "stream",
     "text": [
      "('a', 'b', 'c', 1, 2, 3)\n"
     ]
    }
   ],
   "source": [
    "tuple1 = (\"a\", \"b\" , \"c\")\n",
    "tuple2 = (1, 2, 3)\n",
    "\n",
    "tuple3 = tuple1 + tuple2\n",
    "print(tuple3)"
   ]
  },
  {
   "cell_type": "code",
   "execution_count": 114,
   "id": "e5743ca3-503d-40fe-ae99-82845bddd467",
   "metadata": {},
   "outputs": [
    {
     "name": "stdout",
     "output_type": "stream",
     "text": [
      "('apple', 'banana', 'cherry', 'apple', 'banana', 'cherry')\n"
     ]
    }
   ],
   "source": [
    "fruits = (\"apple\", \"banana\", \"cherry\")\n",
    "mytuple = fruits * 2\n",
    "\n",
    "print(mytuple)"
   ]
  },
  {
   "cell_type": "markdown",
   "id": "10163e9b-b5fa-49ce-b958-cc93c89d94c3",
   "metadata": {},
   "source": [
    "Sets"
   ]
  },
  {
   "cell_type": "code",
   "execution_count": 16,
   "id": "4d5f0e2f-f729-4839-b308-1c3313837734",
   "metadata": {},
   "outputs": [
    {
     "name": "stdout",
     "output_type": "stream",
     "text": [
      "{'Yernur', 'Almas', 'Akezhan'}\n"
     ]
    }
   ],
   "source": [
    "myset = {\"Yernur\", \"Akezhan\", \"Almas\"}\n",
    "print(myset)"
   ]
  },
  {
   "cell_type": "code",
   "execution_count": 25,
   "id": "cb0aac16-295c-47c4-a4b8-d4f3d07ebd43",
   "metadata": {},
   "outputs": [
    {
     "name": "stdout",
     "output_type": "stream",
     "text": [
      "{'Yernur', True, False, 202, 'Almas', 'Akezhan'}\n"
     ]
    }
   ],
   "source": [
    "myset = {\"Yernur\", \"Akezhan\", \"Almas\", True, 1, False, 0, 202}\n",
    "print(myset)"
   ]
  },
  {
   "cell_type": "code",
   "execution_count": 23,
   "id": "6b805eef-3e27-4caf-ae9c-4c53dc04097a",
   "metadata": {},
   "outputs": [
    {
     "name": "stdout",
     "output_type": "stream",
     "text": [
      "3\n"
     ]
    }
   ],
   "source": [
    "myset = {\"Yernur\", \"Akezhan\", \"Almas\"}\n",
    "print(len(myset))"
   ]
  },
  {
   "cell_type": "code",
   "execution_count": 27,
   "id": "54252761-4b3a-4386-a736-f6819da18c96",
   "metadata": {},
   "outputs": [
    {
     "name": "stdout",
     "output_type": "stream",
     "text": [
      "<class 'set'>\n"
     ]
    }
   ],
   "source": [
    "myset = {\"Yernur\", \"Akezhan\", \"Almas\"}\n",
    "print(type(myset))\n"
   ]
  },
  {
   "cell_type": "code",
   "execution_count": 31,
   "id": "6c5f6d57-26fb-49cc-ac2f-89e30ebe1aec",
   "metadata": {},
   "outputs": [
    {
     "name": "stdout",
     "output_type": "stream",
     "text": [
      "{'Yernur', 'Almas', 'Akezhan'}\n"
     ]
    }
   ],
   "source": [
    "myset = set((\"Yernur\", \"Akezhan\", \"Almas\"))\n",
    "print(myset)"
   ]
  },
  {
   "cell_type": "code",
   "execution_count": 33,
   "id": "ff6b670f-6d68-49e3-96ca-cfcdfd302b32",
   "metadata": {},
   "outputs": [
    {
     "name": "stdout",
     "output_type": "stream",
     "text": [
      "Yernur\n",
      "Almas\n",
      "Akezhan\n"
     ]
    }
   ],
   "source": [
    "myset = {\"Yernur\", \"Akezhan\", \"Almas\"}\n",
    "for x in myset:\n",
    "    print(x)"
   ]
  },
  {
   "cell_type": "code",
   "execution_count": 37,
   "id": "d0720612-ede0-4af5-9787-5245d2cf19b5",
   "metadata": {},
   "outputs": [
    {
     "name": "stdout",
     "output_type": "stream",
     "text": [
      "True\n"
     ]
    }
   ],
   "source": [
    "myset = {\"Yernur\", \"Akezhan\", \"Almas\"}\n",
    "print(\"Almas\" in myset or \"QQ\" not in myset)"
   ]
  },
  {
   "cell_type": "code",
   "execution_count": 45,
   "id": "23eea892-f2ae-4402-a4cb-bc6d4c265180",
   "metadata": {},
   "outputs": [
    {
     "name": "stdout",
     "output_type": "stream",
     "text": [
      "{'Yernur', 'igetit', 'qq', 'Almas', 'Akezhan'}\n",
      "{'Yernur', 'igetit', 'Almas', 'Akezhan'}\n"
     ]
    }
   ],
   "source": [
    "myset = {\"Yernur\", \"Akezhan\", \"Almas\"}\n",
    "myset.add(\"igetit\")\n",
    "myset.add(\"qq\")\n",
    "print(myset)\n",
    "myset.remove(\"qq\")\n",
    "print(myset)"
   ]
  },
  {
   "cell_type": "code",
   "execution_count": 47,
   "id": "cf942495-5a15-428e-9a07-1da0b4b6531c",
   "metadata": {},
   "outputs": [
    {
     "name": "stdout",
     "output_type": "stream",
     "text": [
      "{'Yernur', 'ww', 'zz', 'qq', 'Almas', 'Akezhan'}\n"
     ]
    }
   ],
   "source": [
    "myset = {\"Yernur\", \"Akezhan\", \"Almas\"}\n",
    "qq = {\"qq\", \"ww\", \"zz\"}\n",
    "myset.update(qq)\n",
    "print(myset)"
   ]
  },
  {
   "cell_type": "code",
   "execution_count": 53,
   "id": "651ae5d0-c01c-4c16-b30a-2373616fad0a",
   "metadata": {},
   "outputs": [
    {
     "name": "stdout",
     "output_type": "stream",
     "text": [
      "{'Yernur', 'Almas'}\n"
     ]
    }
   ],
   "source": [
    "myset = {\"Yernur\", \"Akezhan\", \"Almas\"}\n",
    "myset.discard(\"Akezhan\")\n",
    "print(myset)"
   ]
  },
  {
   "cell_type": "code",
   "execution_count": 61,
   "id": "66b2e3ed-9a43-40be-8642-2647468f581e",
   "metadata": {},
   "outputs": [
    {
     "name": "stdout",
     "output_type": "stream",
     "text": [
      "{'Almas', 'Akezhan'}\n"
     ]
    }
   ],
   "source": [
    "myset = {\"Yernur\", \"Akezhan\", \"Almas\"}\n",
    "myset.pop()\n",
    "print(myset)"
   ]
  },
  {
   "cell_type": "code",
   "execution_count": 63,
   "id": "d4a48559-8ec7-4b8a-af43-be61ec502c3d",
   "metadata": {},
   "outputs": [
    {
     "name": "stdout",
     "output_type": "stream",
     "text": [
      "set()\n"
     ]
    }
   ],
   "source": [
    "myset = {\"Yernur\", \"Akezhan\", \"Almas\"}\n",
    "myset.clear()\n",
    "print(myset)"
   ]
  },
  {
   "cell_type": "code",
   "execution_count": 65,
   "id": "6645e147-0f8f-47e6-963f-a3c987d0b07b",
   "metadata": {},
   "outputs": [],
   "source": [
    "\n",
    "myset = {\"Yernur\", \"Akezhan\", \"Almas\"}\n",
    "del myset"
   ]
  },
  {
   "cell_type": "code",
   "execution_count": 67,
   "id": "d07efa7e-eb3c-4af4-a9f5-06c50568cc0c",
   "metadata": {},
   "outputs": [
    {
     "name": "stdout",
     "output_type": "stream",
     "text": [
      "Yernur\n",
      "Almas\n",
      "Akezhan\n"
     ]
    }
   ],
   "source": [
    "myset = {\"Yernur\", \"Akezhan\", \"Almas\"}\n",
    "for x in myset:\n",
    "    print(x)"
   ]
  },
  {
   "cell_type": "code",
   "execution_count": 69,
   "id": "fa73ae5f-f2b1-430e-bb0b-a280aa792636",
   "metadata": {},
   "outputs": [
    {
     "name": "stdout",
     "output_type": "stream",
     "text": [
      "0\n",
      "1\n",
      "2\n"
     ]
    }
   ],
   "source": [
    "myset = {\"Yernur\", \"Akezhan\", \"Almas\"}\n",
    "for x in range(len(myset)):\n",
    "    print(x)"
   ]
  },
  {
   "cell_type": "code",
   "execution_count": 82,
   "id": "095d41ed-db77-40ec-a91f-8344ee67ab7f",
   "metadata": {},
   "outputs": [
    {
     "name": "stdout",
     "output_type": "stream",
     "text": [
      "{'Yernur', 'Ardaq aga', 'Almas', 'Akezhan', 'Aliyar'}\n",
      "{'Yernur'}\n",
      "{'Almas', 'Akezhan'}\n",
      "{'Ardaq aga', 'Aliyar', 'Almas', 'Akezhan'}\n",
      "None\n"
     ]
    }
   ],
   "source": [
    "myset = {\"Yernur\", \"Akezhan\", \"Almas\"}\n",
    "set1 = {\"Yernur\", \"Aliyar\", \"Ardaq aga\"}\n",
    "print(myset.union(set1))\n",
    "print(myset.intersection(set1))\n",
    "print(myset.difference(set1))\n",
    "print(myset.symmetric_difference(set1))\n",
    "print(myset.update(set1))"
   ]
  },
  {
   "cell_type": "code",
   "execution_count": 84,
   "id": "497bca3f-cc93-45e2-993c-ca223c2a3142",
   "metadata": {},
   "outputs": [
    {
     "name": "stdout",
     "output_type": "stream",
     "text": [
      "{'Yernur', 'Ardaq aga', 'Almas', 'Akezhan', 'Aliyar'}\n",
      "{'Yernur'}\n",
      "{'Almas', 'Akezhan'}\n",
      "{'Ardaq aga', 'Aliyar', 'Almas', 'Akezhan'}\n"
     ]
    }
   ],
   "source": [
    "myset = {\"Yernur\", \"Akezhan\", \"Almas\"}\n",
    "set1 = {\"Yernur\", \"Aliyar\", \"Ardaq aga\"}\n",
    "print(myset|set1)\n",
    "print(myset&set1)\n",
    "print(myset-set1)\n",
    "print(myset^set1)\n"
   ]
  },
  {
   "cell_type": "markdown",
   "id": "c2e47504-35b7-4297-b116-b03af2996ae1",
   "metadata": {},
   "source": [
    "Dictionaries"
   ]
  },
  {
   "cell_type": "code",
   "execution_count": 89,
   "id": "508ccc04-b820-4545-b363-02d4726869df",
   "metadata": {},
   "outputs": [
    {
     "name": "stdout",
     "output_type": "stream",
     "text": [
      "{'Aki': 2165, 'Zhanik': 2840, 'EzhikZver': 10000}\n"
     ]
    }
   ],
   "source": [
    "elo={\n",
    "\"Aki\" : 2165,\n",
    "\"Zhanik\" : 2840,\n",
    "\"EzhikZver\": 10000    \n",
    "}\n",
    "print(elo)"
   ]
  },
  {
   "cell_type": "code",
   "execution_count": 93,
   "id": "54cee0da-8cd7-4bd5-ae9e-326ed66df0f1",
   "metadata": {},
   "outputs": [
    {
     "name": "stdout",
     "output_type": "stream",
     "text": [
      "2165\n"
     ]
    }
   ],
   "source": [
    "elo={\n",
    "\"Aki\" : 2165,\n",
    "\"Zhanik\" : 2840,\n",
    "\"EzhikZver\": 10000    \n",
    "}\n",
    "print(elo[\"Aki\"])"
   ]
  },
  {
   "cell_type": "code",
   "execution_count": 115,
   "id": "f24ac1cc-c2cd-4911-aa95-5f5a36d3bb8c",
   "metadata": {},
   "outputs": [
    {
     "name": "stdout",
     "output_type": "stream",
     "text": [
      "dict_keys(['Aki', 'Zhanik', 'EzhikZver', 'Dastan'])\n",
      "2165\n"
     ]
    }
   ],
   "source": [
    "elo={\n",
    "\"Aki\" : 2165,\n",
    "\"Zhanik\" : 2840,\n",
    "\"EzhikZver\": 10000    \n",
    "}\n",
    "elo[\"EzhikZver\"] = 100000\n",
    "elo[\"Dastan\"] = 0\n",
    "x = elo.keys()\n",
    "print(x)\n",
    "print(elo[\"Aki\"])"
   ]
  },
  {
   "cell_type": "code",
   "execution_count": 117,
   "id": "323cebb9-bfdf-48f5-8216-cae51c43c2fc",
   "metadata": {},
   "outputs": [
    {
     "name": "stdout",
     "output_type": "stream",
     "text": [
      "dict_values([2165, 2840, 10000])\n",
      "dict_items([('Aki', 2165), ('Zhanik', 2840), ('EzhikZver', 10000)])\n"
     ]
    }
   ],
   "source": [
    "elo={\n",
    "\"Aki\" : 2165,\n",
    "\"Zhanik\" : 2840,\n",
    "\"EzhikZver\": 10000    \n",
    "}\n",
    "x=elo.values()\n",
    "print(x)\n",
    "y=elo.items()\n",
    "print(y)\n"
   ]
  },
  {
   "cell_type": "code",
   "execution_count": 123,
   "id": "bb33cd85-12f4-4c0d-8edc-507c8c0ec88b",
   "metadata": {},
   "outputs": [
    {
     "name": "stdout",
     "output_type": "stream",
     "text": [
      "True\n",
      "False\n"
     ]
    }
   ],
   "source": [
    "elo={\n",
    "\"Aki\" : 2165,\n",
    "\"Zhanik\" : 2840,\n",
    "\"EzhikZver\": 10000    \n",
    "}\n",
    "print(\"Aki\" in elo)\n"
   ]
  },
  {
   "cell_type": "code",
   "execution_count": 125,
   "id": "3baa706c-a3b8-42ea-a9c3-7a5a1f065cbe",
   "metadata": {},
   "outputs": [
    {
     "name": "stdout",
     "output_type": "stream",
     "text": [
      "{'Aki': 2166, 'Zhanik': 2840, 'EzhikZver': 10000}\n"
     ]
    }
   ],
   "source": [
    "elo={\n",
    "\"Aki\" : 2165,\n",
    "\"Zhanik\" : 2840,\n",
    "\"EzhikZver\": 10000    \n",
    "}\n",
    "elo.update({\"Aki\": 2166})\n",
    "print(elo)"
   ]
  },
  {
   "cell_type": "code",
   "execution_count": 127,
   "id": "bd011ab6-498d-493e-9ad3-dbf71a064a9b",
   "metadata": {},
   "outputs": [
    {
     "name": "stdout",
     "output_type": "stream",
     "text": [
      "{'Aki': 2165, 'Zhanik': 2840}\n"
     ]
    }
   ],
   "source": [
    "elo={\n",
    "\"Aki\" : 2165,\n",
    "\"Zhanik\" : 2840,\n",
    "\"EzhikZver\": 10000    \n",
    "}\n",
    "elo.pop(\"EzhikZver\")\n",
    "print(elo)"
   ]
  },
  {
   "cell_type": "code",
   "execution_count": 137,
   "id": "075ba470-7084-4d90-8f90-0788cc64c493",
   "metadata": {},
   "outputs": [
    {
     "name": "stdout",
     "output_type": "stream",
     "text": [
      "{'Aki': 2165, 'Zhanik': 2840}\n"
     ]
    }
   ],
   "source": [
    "elo={\n",
    "\"Aki\" : 2165,\n",
    "\"Zhanik\" : 2840,\n",
    "\"EzhikZver\": 10000    \n",
    "}\n",
    "elo.popitem()\n",
    "print(elo)"
   ]
  },
  {
   "cell_type": "code",
   "execution_count": 139,
   "id": "8dfcd5da-0208-40b5-8a9a-eae33542ea25",
   "metadata": {},
   "outputs": [
    {
     "name": "stdout",
     "output_type": "stream",
     "text": [
      "{'Zhanik': 2840, 'EzhikZver': 10000}\n"
     ]
    }
   ],
   "source": [
    "elo={\n",
    "\"Aki\" : 2165,\n",
    "\"Zhanik\" : 2840,\n",
    "\"EzhikZver\": 10000    \n",
    "}\n",
    "del elo[\"Aki\"]\n",
    "print(elo)"
   ]
  },
  {
   "cell_type": "code",
   "execution_count": 141,
   "id": "3b4df027-d2a6-4291-bcc8-05336d265a13",
   "metadata": {},
   "outputs": [],
   "source": [
    "elo={\n",
    "\"Aki\" : 2165,\n",
    "\"Zhanik\" : 2840,\n",
    "\"EzhikZver\": 10000    \n",
    "}\n",
    "del elo"
   ]
  },
  {
   "cell_type": "code",
   "execution_count": 143,
   "id": "4ffbc759-b2d4-4b97-8bb7-8ce691a9161d",
   "metadata": {},
   "outputs": [
    {
     "name": "stdout",
     "output_type": "stream",
     "text": [
      "Aki\n",
      "Zhanik\n",
      "EzhikZver\n"
     ]
    }
   ],
   "source": [
    "elo={\n",
    "\"Aki\" : 2165,\n",
    "\"Zhanik\" : 2840,\n",
    "\"EzhikZver\": 10000    \n",
    "}\n",
    "for x in elo:\n",
    "    print(x)"
   ]
  },
  {
   "cell_type": "code",
   "execution_count": 145,
   "id": "3a521112-392e-4abb-9321-0215712ddbcc",
   "metadata": {},
   "outputs": [
    {
     "name": "stdout",
     "output_type": "stream",
     "text": [
      "2165\n",
      "2840\n",
      "10000\n"
     ]
    }
   ],
   "source": [
    "elo={\n",
    "\"Aki\" : 2165,\n",
    "\"Zhanik\" : 2840,\n",
    "\"EzhikZver\": 10000    \n",
    "}\n",
    "for x in elo:\n",
    "    print(elo[x])"
   ]
  },
  {
   "cell_type": "code",
   "execution_count": 149,
   "id": "8f0a09e2-6ace-4d7c-871e-14a6d19f1b6e",
   "metadata": {},
   "outputs": [
    {
     "name": "stdout",
     "output_type": "stream",
     "text": [
      "2165\n",
      "2840\n",
      "10000\n"
     ]
    }
   ],
   "source": [
    "elo={\n",
    "\"Aki\" : 2165,\n",
    "\"Zhanik\" : 2840,\n",
    "\"EzhikZver\": 10000    \n",
    "}\n",
    "for x in elo.values():\n",
    "    print(x)"
   ]
  },
  {
   "cell_type": "code",
   "execution_count": 157,
   "id": "1bdec299-f0e2-42b8-b1ad-00f0234923a4",
   "metadata": {},
   "outputs": [
    {
     "name": "stdout",
     "output_type": "stream",
     "text": [
      "Aki\n",
      "Zhanik\n",
      "EzhikZver\n"
     ]
    }
   ],
   "source": [
    "elo={\n",
    "\"Aki\": 2165,\n",
    "\"Zhanik\" : 2840,\n",
    "\"EzhikZver\": 10000    \n",
    "}\n",
    "for x in elo.keys():\n",
    "    print(x)"
   ]
  },
  {
   "cell_type": "code",
   "execution_count": 159,
   "id": "99a61c12-52cf-4aaf-8ce4-3ffe2cd11f48",
   "metadata": {},
   "outputs": [
    {
     "name": "stdout",
     "output_type": "stream",
     "text": [
      "('Aki', 2165)\n",
      "('Zhanik', 2840)\n",
      "('EzhikZver', 10000)\n"
     ]
    }
   ],
   "source": [
    "elo={\n",
    "\"Aki\" : 2165,\n",
    "\"Zhanik\" : 2840,\n",
    "\"EzhikZver\": 10000    \n",
    "}\n",
    "for x in elo.items():\n",
    "    print(x)"
   ]
  },
  {
   "cell_type": "code",
   "execution_count": 161,
   "id": "eea37d46-68b0-4e3d-936e-6237361b00a2",
   "metadata": {},
   "outputs": [
    {
     "name": "stdout",
     "output_type": "stream",
     "text": [
      "{'Aki': 2165, 'Zhanik': 2840, 'EzhikZver': 10000}\n"
     ]
    }
   ],
   "source": [
    "\n",
    "elo={\n",
    "\"Aki\" : 2165,\n",
    "\"Zhanik\" : 2840,\n",
    "\"EzhikZver\": 10000    \n",
    "}\n",
    "faceit = elo.copy()\n",
    "print(faceit)"
   ]
  },
  {
   "cell_type": "code",
   "execution_count": 163,
   "id": "07dccb0d-ee67-4f2f-9a2b-dcb7f3162d16",
   "metadata": {},
   "outputs": [
    {
     "name": "stdout",
     "output_type": "stream",
     "text": [
      "{'Aki': 2165, 'Zhanik': 2840, 'EzhikZver': 10000}\n"
     ]
    }
   ],
   "source": [
    "\n",
    "elo={\n",
    "\"Aki\" : 2165,\n",
    "\"Zhanik\" : 2840,\n",
    "\"EzhikZver\": 10000    \n",
    "}\n",
    "faceit = dict(elo)\n",
    "print(faceit)"
   ]
  },
  {
   "cell_type": "code",
   "execution_count": 167,
   "id": "001d7d85-e042-4be2-979f-06eb73219f3e",
   "metadata": {},
   "outputs": [
    {
     "name": "stdout",
     "output_type": "stream",
     "text": [
      "{'elo': {'Aki': 2165, 'Zhanik': 2840, 'EzhikZver': 10000}, 'hours': {'Aki': 5012, 'Zhanik': 3600, 'EzhikZver': 0}}\n"
     ]
    }
   ],
   "source": [
    "\n",
    "elo={\n",
    "\"Aki\" : 2165,\n",
    "\"Zhanik\" : 2840,\n",
    "\"EzhikZver\": 10000    \n",
    "}\n",
    "hours={\n",
    "    \"Aki\" : 5012,\n",
    "    \"Zhanik\": 3600,\n",
    "    \"EzhikZver\" : 0\n",
    "}\n",
    "info = {\n",
    "\"elo\" : elo,\n",
    " \"hours\" : hours   \n",
    "    }\n",
    "print(info)"
   ]
  },
  {
   "cell_type": "code",
   "execution_count": 169,
   "id": "54bde251-54d4-4222-909a-aba006ee433d",
   "metadata": {},
   "outputs": [
    {
     "name": "stdout",
     "output_type": "stream",
     "text": [
      "elo\n",
      "hours\n"
     ]
    }
   ],
   "source": [
    "\n",
    "elo={\n",
    "\"Aki\" : 2165,\n",
    "\"Zhanik\" : 2840,\n",
    "\"EzhikZver\": 10000    \n",
    "}\n",
    "hours={\n",
    "    \"Aki\" : 5012,\n",
    "    \"Zhanik\": 3600,\n",
    "    \"EzhikZver\" : 0\n",
    "}\n",
    "info = {\n",
    "\"elo\" : elo,\n",
    " \"hours\" : hours   \n",
    "    }\n",
    "for x in info:\n",
    "    print(x)"
   ]
  },
  {
   "cell_type": "code",
   "execution_count": 173,
   "id": "c1fc720f-3af5-47c0-af29-79ad8ad2bfea",
   "metadata": {},
   "outputs": [
    {
     "name": "stdout",
     "output_type": "stream",
     "text": [
      "Nah\n"
     ]
    }
   ],
   "source": [
    "a = 3\n",
    "b = 4\n",
    "if a>b:\n",
    "    print(\"Konechno\")\n",
    "elif a==b:\n",
    "    print(\"YEAH\")\n",
    "else:\n",
    "    print(\"Nah\")"
   ]
  },
  {
   "cell_type": "code",
   "execution_count": 175,
   "id": "b06602a2-aff0-4030-9256-b6776205df7a",
   "metadata": {},
   "outputs": [
    {
     "name": "stdout",
     "output_type": "stream",
     "text": [
      "w\n"
     ]
    }
   ],
   "source": [
    "a = 3 \n",
    "b = 4 \n",
    "c = 7\n",
    "if a>b and c>a:\n",
    "    print(\"q\")\n",
    "elif b==c or a<b:\n",
    "    print(\"w\")\n",
    "elif not a==c:\n",
    "    print(\"ketei\")"
   ]
  },
  {
   "cell_type": "code",
   "execution_count": 177,
   "id": "3142fdc3-447a-4104-9299-4675a53f68a1",
   "metadata": {},
   "outputs": [
    {
     "name": "stdout",
     "output_type": "stream",
     "text": [
      "I get it, she wanna come with me, I get it\n"
     ]
    }
   ],
   "source": [
    "a = 3 \n",
    "b = 4 \n",
    "c = 7\n",
    "if a<b:\n",
    "    if b<c:\n",
    "        print(\"I get it, she wanna come with me, I get it\")"
   ]
  },
  {
   "cell_type": "code",
   "execution_count": 179,
   "id": "2382ed24-0015-4df7-bc3f-47645c403cf9",
   "metadata": {},
   "outputs": [],
   "source": [
    "a = 3 \n",
    "b = 4\n",
    "if a<b:\n",
    "    pass"
   ]
  },
  {
   "cell_type": "code",
   "execution_count": null,
   "id": "780a8871-47df-4713-9a64-ed270b66e2d6",
   "metadata": {},
   "outputs": [],
   "source": [
    "a = int(input())\n",
    "i = 0\n",
    "while a > i:\n",
    "    print(\"z\")\n",
    "    i += 1  \n"
   ]
  },
  {
   "cell_type": "code",
   "execution_count": null,
   "id": "17a69dd0-f50c-4a05-b4ae-ee73d637937e",
   "metadata": {},
   "outputs": [],
   "source": [
    "i = 0\n",
    "while i < 6:\n",
    "  i += 1\n",
    "  if i == 3:\n",
    "    continue\n",
    "  print(i)"
   ]
  },
  {
   "cell_type": "code",
   "execution_count": null,
   "id": "4c41b8cf-0d5e-4058-b988-022f90578bf5",
   "metadata": {},
   "outputs": [],
   "source": [
    "i = 1\n",
    "while i < 6:\n",
    "  print(i)\n",
    "  i += 1\n",
    "else:\n",
    "  print(\"i is no longer less than 6\")"
   ]
  },
  {
   "cell_type": "code",
   "execution_count": null,
   "id": "5e2638b1-2e5c-4796-b2f4-ea6a293419bb",
   "metadata": {},
   "outputs": [],
   "source": [
    "fruits = [\"apple\", \"banana\", \"cherry\"]\n",
    "for x in fruits:\n",
    "  if x == \"banana\":\n",
    "    continue\n",
    "  print(x)"
   ]
  },
  {
   "cell_type": "code",
   "execution_count": null,
   "id": "ab7a6847-1a75-44b9-a196-f7f35ef0b208",
   "metadata": {},
   "outputs": [],
   "source": [
    "for x in range(1, 10, 3):\n",
    "    print(x)\n",
    "else:\n",
    "    print(\"bitti\")"
   ]
  },
  {
   "cell_type": "code",
   "execution_count": null,
   "id": "60b243f1-a033-4ad4-ab49-bf96e53ea054",
   "metadata": {},
   "outputs": [],
   "source": [
    "a = 0\n",
    "for x in range(3):\n",
    "    for y in range(3):\n",
    "        a+=1\n",
    "print(a)        "
   ]
  },
  {
   "cell_type": "code",
   "execution_count": null,
   "id": "12549ea6-897f-4b13-a762-0364297318cf",
   "metadata": {},
   "outputs": [],
   "source": []
  }
 ],
 "metadata": {
  "kernelspec": {
   "display_name": "Python [conda env:base] *",
   "language": "python",
   "name": "conda-base-py"
  },
  "language_info": {
   "codemirror_mode": {
    "name": "ipython",
    "version": 3
   },
   "file_extension": ".py",
   "mimetype": "text/x-python",
   "name": "python",
   "nbconvert_exporter": "python",
   "pygments_lexer": "ipython3",
   "version": "3.12.7"
  }
 },
 "nbformat": 4,
 "nbformat_minor": 5
}
