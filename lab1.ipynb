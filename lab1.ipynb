{
 "cells": [
  {
   "cell_type": "markdown",
   "id": "f74286a9-2eee-4caf-9d6b-68b001203975",
   "metadata": {},
   "source": [
    "Python home"
   ]
  },
  {
   "cell_type": "code",
   "execution_count": 1,
   "id": "10fe5e56-8f4f-4a87-b48a-4687e26dcc0e",
   "metadata": {},
   "outputs": [
    {
     "name": "stdout",
     "output_type": "stream",
     "text": [
      "Professor Almas is the best\n"
     ]
    }
   ],
   "source": [
    "print(\"Professor Almas is the best\")"
   ]
  },
  {
   "cell_type": "markdown",
   "id": "9ce6ca17-dfb3-47e2-830e-ce041f1a6487",
   "metadata": {},
   "source": [
    "Python intro"
   ]
  },
  {
   "cell_type": "code",
   "execution_count": 2,
   "id": "5eb6faba-8436-4352-b98e-71e9d07ae155",
   "metadata": {},
   "outputs": [
    {
     "name": "stdout",
     "output_type": "stream",
     "text": [
      "IT is cool\n"
     ]
    }
   ],
   "source": [
    "print(\"IT is cool\")"
   ]
  },
  {
   "cell_type": "markdown",
   "id": "cea0bda5-7778-43bc-877a-dbb154cc73a0",
   "metadata": {},
   "source": [
    "Python get started"
   ]
  },
  {
   "cell_type": "code",
   "execution_count": 3,
   "id": "f3f3aeeb-66e7-4d85-baf3-d97cc4b480a5",
   "metadata": {},
   "outputs": [
    {
     "name": "stdout",
     "output_type": "stream",
     "text": [
      "3.12.7 | packaged by Anaconda, Inc. | (main, Oct  4 2024, 13:17:27) [MSC v.1929 64 bit (AMD64)]\n"
     ]
    }
   ],
   "source": [
    "import sys\n",
    "\n",
    "print(sys.version)"
   ]
  },
  {
   "cell_type": "code",
   "execution_count": 4,
   "id": "394e2dda-78f8-4988-b4bb-457ae85809f3",
   "metadata": {},
   "outputs": [
    {
     "name": "stdout",
     "output_type": "stream",
     "text": [
      "Shootout to Professor Ussyukin\n"
     ]
    }
   ],
   "source": [
    "print(\"Shootout to Professor Ussyukin\")"
   ]
  },
  {
   "cell_type": "markdown",
   "id": "885e8288-56c3-47f1-9109-271aa7a7ec99",
   "metadata": {},
   "source": [
    "Python Syntax"
   ]
  },
  {
   "cell_type": "markdown",
   "id": "42fa79b0-1e5f-4162-93be-ba8555f9d401",
   "metadata": {},
   "source": [
    "Indentation"
   ]
  },
  {
   "cell_type": "code",
   "execution_count": 7,
   "id": "e25bed66-2957-405e-8d35-82ef554e57dd",
   "metadata": {},
   "outputs": [
    {
     "name": "stdout",
     "output_type": "stream",
     "text": [
      "a is bigger than b\n"
     ]
    }
   ],
   "source": [
    "a = 5\n",
    "b = 4 \n",
    "if b<a:\n",
    "    print(\"a is bigger than b\")\n",
    "else:\n",
    "    print(\"b is bigger than a\")"
   ]
  },
  {
   "cell_type": "markdown",
   "id": "9dd5f17a-eb2c-4485-bdfc-d3232b270574",
   "metadata": {},
   "source": [
    "Variables"
   ]
  },
  {
   "cell_type": "code",
   "execution_count": 8,
   "id": "3a5a2ccc-f6a3-4f7b-ab4c-bb95c5673d7b",
   "metadata": {},
   "outputs": [],
   "source": [
    "a = 23\n",
    "b = \"Mr2wenty3\""
   ]
  },
  {
   "cell_type": "markdown",
   "id": "58d0b776-a2ba-4644-bd40-b96ed2d6070f",
   "metadata": {},
   "source": [
    "Commenting"
   ]
  },
  {
   "cell_type": "code",
   "execution_count": 9,
   "id": "2967803f-0f7d-408f-88d6-96f230291349",
   "metadata": {},
   "outputs": [
    {
     "name": "stdout",
     "output_type": "stream",
     "text": [
      "A$AP MOB - Yamborgini high\n"
     ]
    }
   ],
   "source": [
    "#Yamborghini high this is how we do\n",
    "print(\"A$AP MOB - Yamborgini high\")"
   ]
  },
  {
   "cell_type": "markdown",
   "id": "3b1bad44-10a9-41fa-a5e6-d78a9fd35934",
   "metadata": {},
   "source": [
    "Variable names"
   ]
  },
  {
   "cell_type": "code",
   "execution_count": 11,
   "id": "b9a3d3a3-820e-47fa-96c3-967778ae45b1",
   "metadata": {},
   "outputs": [],
   "source": [
    "kbtu = \"top\"\n",
    "kb_tu = \"top\"\n",
    "_kb_tu = \"top\"\n",
    "KBtu = \"top\"\n",
    "KBTU = \"top\"\n",
    "kbtu777 = \"top\""
   ]
  },
  {
   "cell_type": "markdown",
   "id": "41b81bbd-98f3-4a6e-8bc3-1ea6f9a7ee0e",
   "metadata": {},
   "source": [
    "Assigning multiple values"
   ]
  },
  {
   "cell_type": "code",
   "execution_count": 13,
   "id": "a6f485c8-5382-4533-85d2-be1adbff882f",
   "metadata": {},
   "outputs": [
    {
     "name": "stdout",
     "output_type": "stream",
     "text": [
      "2 4 5\n"
     ]
    }
   ],
   "source": [
    "a, b, c = 2, 4, 5\n",
    "print(a,b,c)"
   ]
  },
  {
   "cell_type": "code",
   "execution_count": 15,
   "id": "b0aa007b-e5d4-4fbc-a582-e1da504b2a53",
   "metadata": {},
   "outputs": [
    {
     "name": "stdout",
     "output_type": "stream",
     "text": [
      "4 4 4\n"
     ]
    }
   ],
   "source": [
    "a=b=c = 4\n",
    "print(a, b, c)"
   ]
  },
  {
   "cell_type": "code",
   "execution_count": 16,
   "id": "0130c50d-f864-47ac-a4b0-6c8f735ba0e2",
   "metadata": {},
   "outputs": [
    {
     "name": "stdout",
     "output_type": "stream",
     "text": [
      "2 3 4\n"
     ]
    }
   ],
   "source": [
    "grades = [2, 3 ,4]\n",
    "a, b, c = grades\n",
    "print(a, b ,c)"
   ]
  },
  {
   "cell_type": "markdown",
   "id": "37612895-9c4f-4439-a85b-6f09a26201c7",
   "metadata": {},
   "source": [
    "Output variables"
   ]
  },
  {
   "cell_type": "code",
   "execution_count": 18,
   "id": "fb598e50-b156-4946-92a7-75f0c7c4e817",
   "metadata": {},
   "outputs": [
    {
     "name": "stdout",
     "output_type": "stream",
     "text": [
      "python is the best\n"
     ]
    }
   ],
   "source": [
    "p = \"python is the best\"\n",
    "print(p)"
   ]
  },
  {
   "cell_type": "code",
   "execution_count": 20,
   "id": "2f8eb6b7-cf1a-401b-9b6e-ef9ef4b06b15",
   "metadata": {},
   "outputs": [
    {
     "name": "stdout",
     "output_type": "stream",
     "text": [
      "KBTU is the best\n"
     ]
    }
   ],
   "source": [
    "a = \"KBTU\"\n",
    "b = \"is the\"\n",
    "c = \"best\"\n",
    "print(a, b, c)"
   ]
  },
  {
   "cell_type": "code",
   "execution_count": 21,
   "id": "6643fce9-472d-4754-ae15-e9309ab4ceea",
   "metadata": {},
   "outputs": [
    {
     "name": "stdout",
     "output_type": "stream",
     "text": [
      "KBTUis thebest\n"
     ]
    }
   ],
   "source": [
    "a = \"KBTU\"\n",
    "b = \"is the\"\n",
    "c = \"best\"\n",
    "print(a+b+c)"
   ]
  },
  {
   "cell_type": "code",
   "execution_count": 22,
   "id": "4c97597d-4ddf-4bed-89f7-3b5daa7d3976",
   "metadata": {},
   "outputs": [
    {
     "name": "stdout",
     "output_type": "stream",
     "text": [
      "KBTU is the best \n"
     ]
    }
   ],
   "source": [
    "#to avoid slipping words into 1 we should leave some space in the end of quotes like a = \"SUUI \"\n",
    "a = \"KBTU \"\n",
    "b = \"is the \"\n",
    "c = \"best \"\n",
    "print(a+b+c)"
   ]
  },
  {
   "cell_type": "code",
   "execution_count": 24,
   "id": "7bc703a8-3a0e-4673-901a-66d632461411",
   "metadata": {},
   "outputs": [
    {
     "name": "stdout",
     "output_type": "stream",
     "text": [
      "12\n"
     ]
    }
   ],
   "source": [
    "#also we can do the same thing with integers, but we cannot combine integers with strings because they have different data types\n",
    "a = 5\n",
    "b = 7\n",
    "print(a+b)"
   ]
  },
  {
   "cell_type": "markdown",
   "id": "4263ca8c-4a31-422f-8d27-799dc649259f",
   "metadata": {},
   "source": [
    "Global variables"
   ]
  },
  {
   "cell_type": "code",
   "execution_count": 25,
   "id": "02972b6d-2ba0-437a-b81a-e26a557b2c80",
   "metadata": {},
   "outputs": [
    {
     "name": "stdout",
     "output_type": "stream",
     "text": [
      "38\n"
     ]
    }
   ],
   "source": [
    "x = 5\n",
    "def func():\n",
    "    print(33 + x)\n",
    "func()"
   ]
  },
  {
   "cell_type": "code",
   "execution_count": 27,
   "id": "294d3e71-7d97-48eb-bcdf-89eb65882871",
   "metadata": {},
   "outputs": [
    {
     "name": "stdout",
     "output_type": "stream",
     "text": [
      "43\n",
      "10\n"
     ]
    }
   ],
   "source": [
    "x = 5\n",
    "def func():\n",
    "    x = 10\n",
    "    print(33 + x)\n",
    "func()\n",
    "print(x*2)"
   ]
  },
  {
   "cell_type": "code",
   "execution_count": 30,
   "id": "4875fb2e-0a0a-4fd4-8f65-e6abe1f7bc04",
   "metadata": {},
   "outputs": [],
   "source": [
    "x = \"Bye World\"\t#str\t\n",
    "x = 120\t#int\t\n",
    "x = 3.5\t#float\t\n",
    "x = 4j\t#complex\t\n",
    "x = [\"lop\", \"bop\", \"pop\"]\t#list\t\n",
    "x = (\"qq\", \"ww\", \"ee\")\t#tuple\t\n",
    "x = range(10)\t#range\t\n",
    "x = {\"spec\" : \"I7 14700K RTX 4070 TI 32GB\", \"price_in_$\" : 2000}\t#dict\t\n",
    "x = {\"huh\", \"rofl\", \"lol\"}\t#set\t\n",
    "x = frozenset({\"yo\", \"pierre\", \"you wanna come out here\"})\t#frozenset\t\n",
    "x = False\t#bool\t\n",
    "x = b\"chotam\"\t#bytes\t\n",
    "x = bytearray(10)\t#bytearray\t\n",
    "x = memoryview(bytes(5))\t#memoryview\t\n",
    "x = None\t#NoneType"
   ]
  },
  {
   "cell_type": "markdown",
   "id": "7af5d740-84b0-462a-99c6-03387ab53f3f",
   "metadata": {},
   "source": [
    "Numbers"
   ]
  },
  {
   "cell_type": "code",
   "execution_count": 39,
   "id": "0e0562c3-4b90-4603-ac34-334db97fefca",
   "metadata": {},
   "outputs": [
    {
     "name": "stdout",
     "output_type": "stream",
     "text": [
      "<class 'int'>  Int, or integer, is a whole number, positive or negative, without decimals, of unlimited length.\n",
      "<class 'complex'>  Complex numbers are written with a (j) as the imaginary part\n",
      "<class 'float'>  Float, or (floating point number) is a number, positive or negative, containing one or more decimals.\n"
     ]
    }
   ],
   "source": [
    "#our output will show all number types in python\n",
    "b = 2\n",
    "a = 3j\n",
    "d = 2.4\n",
    "print(type(b),\" Int, or integer, is a whole number, positive or negative, without decimals, of unlimited length.\")\n",
    "print(type(a), \" Complex numbers are written with a (j) as the imaginary part\")\n",
    "print(type(d), \" Float, or (floating point number) is a number, positive or negative, containing one or more decimals.\")"
   ]
  },
  {
   "cell_type": "markdown",
   "id": "cb931dc1-4801-407d-bc14-769434017b7d",
   "metadata": {},
   "source": [
    "Converting numbers"
   ]
  },
  {
   "cell_type": "code",
   "execution_count": 43,
   "id": "8177dc97-c611-43ab-98b7-e49bae3a59c3",
   "metadata": {},
   "outputs": [
    {
     "name": "stdout",
     "output_type": "stream",
     "text": [
      "3j 2 2.4\n",
      "<class 'float'>\n",
      "<class 'int'>\n",
      "<class 'complex'>\n"
     ]
    }
   ],
   "source": [
    "b = 2\n",
    "a = 3j\n",
    "d = 2.4\n",
    "x = float(b) #int to float\n",
    "y = int(d) #float to int\n",
    "z = complex(b) #from int to complex, !!! but complex to int isnt possilbe\n",
    "print(a ,b ,d)\n",
    "print(type(x))\n",
    "print(type(y))\n",
    "print(type(z))"
   ]
  },
  {
   "cell_type": "markdown",
   "id": "02ba1ab2-63de-4adc-984b-b8c329ea6572",
   "metadata": {},
   "source": [
    "Random Number"
   ]
  },
  {
   "cell_type": "code",
   "execution_count": 49,
   "id": "83658b52-4460-4ebc-88ba-180c3f169080",
   "metadata": {},
   "outputs": [
    {
     "name": "stdout",
     "output_type": "stream",
     "text": [
      "2\n",
      "8\n",
      "1\n",
      "5\n",
      "4\n",
      "2\n",
      "1\n",
      "1\n",
      "3\n"
     ]
    }
   ],
   "source": [
    "#creating totally random numbers\n",
    "import random\n",
    "for i in range(1,10):\n",
    "    print(random.randrange(1, 10))"
   ]
  },
  {
   "cell_type": "markdown",
   "id": "a5f342b2-9592-4172-bb7e-9cf0741a86c9",
   "metadata": {},
   "source": [
    "casting python"
   ]
  },
  {
   "cell_type": "code",
   "execution_count": 51,
   "id": "bae10e27-5343-402b-9e21-f7e682019365",
   "metadata": {},
   "outputs": [],
   "source": [
    "x = int(3)   # x will be 3\n",
    "y = int(4.9) # y will be 4\n",
    "z = int(\"10\") # z will be 10"
   ]
  },
  {
   "cell_type": "code",
   "execution_count": 52,
   "id": "55e55f02-95ec-47f5-ab16-9806782a9134",
   "metadata": {},
   "outputs": [],
   "source": [
    "x = float(2)     # x will be 2.0\n",
    "y = float(3.8)   # y will be 3.8\n",
    "z = float(\"1\")   # z will be 1.0\n",
    "w = float(\"1.8\") # w will be 1.8"
   ]
  },
  {
   "cell_type": "code",
   "execution_count": 53,
   "id": "dc9bcf43-e879-4a4e-b705-4956c732f358",
   "metadata": {},
   "outputs": [],
   "source": [
    "x = str(\"I124Q\") # x will be 'I124Q'\n",
    "y = str(3)    # y will be '3'\n",
    "z = str(4.0)  # z will be '4.0'"
   ]
  },
  {
   "cell_type": "markdown",
   "id": "9859c444-4150-4ba8-9837-c155e3569a3c",
   "metadata": {},
   "source": [
    "Python Strings"
   ]
  },
  {
   "cell_type": "code",
   "execution_count": 55,
   "id": "c5f94ffd-107e-48e4-b14d-f85d75b81fe8",
   "metadata": {},
   "outputs": [
    {
     "name": "stdout",
     "output_type": "stream",
     "text": [
      "yo\n",
      "yo\n"
     ]
    }
   ],
   "source": [
    "print(\"yo\")\n",
    "print('yo') #are the same"
   ]
  },
  {
   "cell_type": "code",
   "execution_count": 57,
   "id": "2a4059aa-f82e-4554-88fa-dc6dbb12cee4",
   "metadata": {},
   "outputs": [
    {
     "name": "stdout",
     "output_type": "stream",
     "text": [
      "I'm the best\n",
      "we call him 'Sisya'\n",
      "we call him \"Sisya\"\n"
     ]
    }
   ],
   "source": [
    "#you can use quotes if they`re not matching the surrounding one\n",
    "print(\"I'm the best\")\n",
    "print(\"we call him 'Sisya'\")\n",
    "print('we call him \"Sisya\"')"
   ]
  },
  {
   "cell_type": "code",
   "execution_count": 58,
   "id": "325ced4a-0e4c-40b8-a1ee-a5604abedcf0",
   "metadata": {},
   "outputs": [
    {
     "name": "stdout",
     "output_type": "stream",
     "text": [
      "Yamborghini-high, Lambo by the crib\n",
      "This is how it is, yeah, these ninjas fake\n",
      "No, we can't relate\n",
      "Yamborghini-high, Lambo by the crib\n"
     ]
    }
   ],
   "source": [
    "a = \"\"\"Yamborghini-high, Lambo by the crib\n",
    "This is how it is, yeah, these ninjas fake\n",
    "No, we can't relate\n",
    "Yamborghini-high, Lambo by the crib\"\"\"\n",
    "print(a)"
   ]
  },
  {
   "cell_type": "code",
   "execution_count": 59,
   "id": "3ba57e85-82d0-41a9-b4db-6d1a46a9e7f8",
   "metadata": {},
   "outputs": [
    {
     "name": "stdout",
     "output_type": "stream",
     "text": [
      "Yamborghini-high, Lambo by the crib\n",
      "This is how it is, yeah, these ninjas fake\n",
      "No, we can't relate\n",
      "Yamborghini-high, Lambo by the crib\n"
     ]
    }
   ],
   "source": [
    "a = '''Yamborghini-high, Lambo by the crib\n",
    "This is how it is, yeah, these ninjas fake\n",
    "No, we can't relate\n",
    "Yamborghini-high, Lambo by the crib'''\n",
    "print(a)"
   ]
  },
  {
   "cell_type": "code",
   "execution_count": 62,
   "id": "5de1c400-6cfa-4df3-987a-395269fbefd0",
   "metadata": {},
   "outputs": [
    {
     "name": "stdout",
     "output_type": "stream",
     "text": [
      "r\n",
      "9\n",
      "Almas is the best PP2 professor\n",
      "Almas is the best PP2 professor\n",
      "Almas is the best PP2 professor\n",
      "Almas is the best PP2 professor\n",
      "Almas is the best PP2 professor\n",
      "Almas is the best PP2 professor\n",
      "Almas is the best PP2 professor\n",
      "Almas is the best PP2 professor\n",
      "Almas is the best PP2 professor\n"
     ]
    }
   ],
   "source": [
    "a = \"Mr2wenty3\"\n",
    "print(a[1])\n",
    "print(len(a))\n",
    "for i in a:\n",
    "    print(\"Almas is the best PP2 professor\")"
   ]
  },
  {
   "cell_type": "code",
   "execution_count": 64,
   "id": "78cecbbf-befb-47e7-96ad-c4371135e687",
   "metadata": {},
   "outputs": [
    {
     "name": "stdout",
     "output_type": "stream",
     "text": [
      "True\n",
      "Absolutely\n",
      "True\n",
      "4l\n"
     ]
    }
   ],
   "source": [
    "txt = \"Aye yo who`s that? Unknown number. Where they at? Sometimes wonder. Where they at? I see them under\"\n",
    "print(\"at\" in txt)\n",
    "if \"yo\" in txt:\n",
    "    print(\"Absolutely\")\n",
    "print(\"lol\" not in txt)\n",
    "if \"lol\" not in txt:\n",
    "    print(\"4l\")"
   ]
  },
  {
   "cell_type": "code",
   "execution_count": 68,
   "id": "bc3e4819-3c66-407b-b619-e352b0bbc1d1",
   "metadata": {},
   "outputs": [
    {
     "name": "stdout",
     "output_type": "stream",
     "text": [
      "Aliyar\n"
     ]
    }
   ],
   "source": [
    "b = \"Aliyar is future pilot\"\n",
    "print(b[0:6])"
   ]
  },
  {
   "cell_type": "code",
   "execution_count": 69,
   "id": "3eb2fa5d-615d-4559-9a49-8bc2670d65f9",
   "metadata": {},
   "outputs": [
    {
     "name": "stdout",
     "output_type": "stream",
     "text": [
      "Aliyar\n"
     ]
    }
   ],
   "source": [
    "b = \"Aliyar is future pilot\"\n",
    "print(b[:6])"
   ]
  },
  {
   "cell_type": "code",
   "execution_count": 73,
   "id": "2c8e0e7e-3c9d-4b4a-bf9c-f7505bf20aa4",
   "metadata": {},
   "outputs": [
    {
     "name": "stdout",
     "output_type": "stream",
     "text": [
      " is future pilot\n"
     ]
    }
   ],
   "source": [
    "b = \"Aliyar is future pilot\"\n",
    "print(b[6:])"
   ]
  },
  {
   "cell_type": "code",
   "execution_count": 74,
   "id": "4a1bfd44-5bad-4879-af66-06ea79120b12",
   "metadata": {},
   "outputs": [
    {
     "name": "stdout",
     "output_type": "stream",
     "text": [
      "pil\n"
     ]
    }
   ],
   "source": [
    "b = \"Aliyar is future pilot\"\n",
    "print(b[-5:-2])"
   ]
  },
  {
   "cell_type": "code",
   "execution_count": 75,
   "id": "fd0396f4-429f-421d-b78c-afc45eda2c5c",
   "metadata": {},
   "outputs": [
    {
     "name": "stdout",
     "output_type": "stream",
     "text": [
      "ALIYAR IS FUTURE PILOT\n"
     ]
    }
   ],
   "source": [
    "b = \"Aliyar is future pilot\"\n",
    "print(b.upper())"
   ]
  },
  {
   "cell_type": "code",
   "execution_count": 76,
   "id": "25397b47-fa1e-48cd-ac80-cab20ea34f05",
   "metadata": {},
   "outputs": [
    {
     "name": "stdout",
     "output_type": "stream",
     "text": [
      "aliyar is future pilot\n"
     ]
    }
   ],
   "source": [
    "b = \"Aliyar is future pilot\"\n",
    "print(b.lower())"
   ]
  },
  {
   "cell_type": "code",
   "execution_count": 77,
   "id": "f5a6cd00-86ac-4da4-bc76-ac9f7630bd6b",
   "metadata": {},
   "outputs": [
    {
     "name": "stdout",
     "output_type": "stream",
     "text": [
      "Aliyar is future pilot\n"
     ]
    }
   ],
   "source": [
    "a = \" Aliyar is future pilot \"\n",
    "print(a.strip())"
   ]
  },
  {
   "cell_type": "code",
   "execution_count": 80,
   "id": "b271be07-4a63-4909-9467-f4930b6f45e9",
   "metadata": {},
   "outputs": [
    {
     "name": "stdout",
     "output_type": "stream",
     "text": [
      "pop\n"
     ]
    }
   ],
   "source": [
    "a = \"lol\"\n",
    "print(a.replace('l', 'p'))"
   ]
  },
  {
   "cell_type": "code",
   "execution_count": 81,
   "id": "80401ed2-5bb7-47cc-8545-a2730a25924a",
   "metadata": {},
   "outputs": [
    {
     "name": "stdout",
     "output_type": "stream",
     "text": [
      "['aye', 'wassup']\n"
     ]
    }
   ],
   "source": [
    "a = \"aye wassup\"\n",
    "print(a.split())"
   ]
  },
  {
   "cell_type": "code",
   "execution_count": 82,
   "id": "f1e4e203-c95d-438b-ac56-273a2df775df",
   "metadata": {},
   "outputs": [
    {
     "name": "stdout",
     "output_type": "stream",
     "text": [
      "My name is Akezhan, I am 17\n"
     ]
    }
   ],
   "source": [
    "age = 17\n",
    "txt = f\"My name is Akezhan, I am {age}\"\n",
    "print(txt)"
   ]
  },
  {
   "cell_type": "code",
   "execution_count": 84,
   "id": "4c7b4d47-537a-428a-bc5a-a9a982f65d4d",
   "metadata": {},
   "outputs": [
    {
     "name": "stdout",
     "output_type": "stream",
     "text": [
      "The price is 100.00 dollars\n"
     ]
    }
   ],
   "source": [
    "price = 100\n",
    "txt = f\"The price is {price:.2f} dollars\"\n",
    "print(txt)"
   ]
  },
  {
   "cell_type": "code",
   "execution_count": 85,
   "id": "67a48732-0218-40cd-beeb-ed46f663a757",
   "metadata": {},
   "outputs": [
    {
     "name": "stdout",
     "output_type": "stream",
     "text": [
      "The price is 10000 dollars\n"
     ]
    }
   ],
   "source": [
    "txt = f\"The price is {10**4} dollars\"\n",
    "print(txt)"
   ]
  },
  {
   "cell_type": "code",
   "execution_count": 88,
   "id": "5d52449a-9fe9-45d4-8156-ccb145c0a8b2",
   "metadata": {},
   "outputs": [
    {
     "name": "stdout",
     "output_type": "stream",
     "text": [
      "hi, \"KBTU\" students\n"
     ]
    }
   ],
   "source": [
    "txt = \"hi, \\\"KBTU\\\" students\"\n",
    "print(txt)"
   ]
  },
  {
   "cell_type": "code",
   "execution_count": 89,
   "id": "3730ea7b-f282-481f-9fba-daef5bca85fa",
   "metadata": {},
   "outputs": [],
   "source": [
    "#\\'\tSingle Quote\t\n",
    "#\\\\\tBackslash\t\n",
    "#\\n\tNew Line\t\n",
    "#\\r\tCarriage Return\t\n",
    "#\\t\tTab\t\n",
    "#\\b\tBackspace\t\n",
    "#\\f\tForm Feed\t\n",
    "#\\ooo\tOctal value\t\n",
    "#\\xhh\tHex value"
   ]
  },
  {
   "cell_type": "code",
   "execution_count": 90,
   "id": "77ad3302-eb3f-4eb9-bf35-755c3fe952c4",
   "metadata": {},
   "outputs": [],
   "source": [
    "# capitalize()\tConverts the first character to upper case\n",
    "# casefold()\tConverts string into lower case\n",
    "# center()\tReturns a centered string\n",
    "# count()\tReturns the number of times a specified value occurs in a string\n",
    "# encode()\tReturns an encoded version of the string\n",
    "# endswith()\tReturns true if the string ends with the specified value\n",
    "# expandtabs()\tSets the tab size of the string\n",
    "# find()\tSearches the string for a specified value and returns the position of where it was found\n",
    "# format()\tFormats specified values in a string\n",
    "# format_map()\tFormats specified values in a string\n",
    "# index()\tSearches the string for a specified value and returns the position of where it was found\n",
    "# isalnum()\tReturns True if all characters in the string are alphanumeric\n",
    "# isalpha()\tReturns True if all characters in the string are in the alphabet\n",
    "# isascii()\tReturns True if all characters in the string are ascii characters\n",
    "# isdecimal()\tReturns True if all characters in the string are decimals\n",
    "# isdigit()\tReturns True if all characters in the string are digits\n",
    "# isidentifier()\tReturns True if the string is an identifier\n",
    "# islower()\tReturns True if all characters in the string are lower case\n",
    "# isnumeric()\tReturns True if all characters in the string are numeric\n",
    "# isprintable()\tReturns True if all characters in the string are printable\n",
    "# isspace()\tReturns True if all characters in the string are whitespaces\n",
    "# istitle()\tReturns True if the string follows the rules of a title\n",
    "# isupper()\tReturns True if all characters in the string are upper case\n",
    "# join()\tJoins the elements of an iterable to the end of the string\n",
    "# ljust()\tReturns a left justified version of the string\n",
    "# lower()\tConverts a string into lower case\n",
    "# lstrip()\tReturns a left trim version of the string\n",
    "# maketrans()\tReturns a translation table to be used in translations\n",
    "# partition()\tReturns a tuple where the string is parted into three parts\n",
    "# replace()\tReturns a string where a specified value is replaced with a specified value\n",
    "# rfind()\tSearches the string for a specified value and returns the last position of where it was found\n",
    "# rindex()\tSearches the string for a specified value and returns the last position of where it was found\n",
    "# rjust()\tReturns a right justified version of the string\n",
    "# rpartition()\tReturns a tuple where the string is parted into three parts\n",
    "# rsplit()\tSplits the string at the specified separator, and returns a list\n",
    "# rstrip()\tReturns a right trim version of the string\n",
    "# split()\tSplits the string at the specified separator, and returns a list\n",
    "# splitlines()\tSplits the string at line breaks and returns a list\n",
    "# startswith()\tReturns true if the string starts with the specified value\n",
    "# strip()\tReturns a trimmed version of the string\n",
    "# swapcase()\tSwaps cases, lower case becomes upper case and vice versa\n",
    "# title()\tConverts the first character of each word to upper case\n",
    "# translate()\tReturns a translated string\n",
    "# upper()\tConverts a string into upper case\n",
    "# zfill()\tFills the string with a specified number of 0 values at the beginning"
   ]
  },
  {
   "cell_type": "code",
   "execution_count": null,
   "id": "9ba40a9e-5db7-4194-bb22-a00ad9d22d79",
   "metadata": {},
   "outputs": [],
   "source": []
  }
 ],
 "metadata": {
  "kernelspec": {
   "display_name": "Python 3 (ipykernel)",
   "language": "python",
   "name": "python3"
  },
  "language_info": {
   "codemirror_mode": {
    "name": "ipython",
    "version": 3
   },
   "file_extension": ".py",
   "mimetype": "text/x-python",
   "name": "python",
   "nbconvert_exporter": "python",
   "pygments_lexer": "ipython3",
   "version": "3.12.7"
  }
 },
 "nbformat": 4,
 "nbformat_minor": 5
}
